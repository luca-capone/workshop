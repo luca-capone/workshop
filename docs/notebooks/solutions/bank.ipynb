{
 "cells": [
  {
   "cell_type": "markdown",
   "id": "4c2a3adb",
   "metadata": {},
   "source": [
    "# Esercizio\n",
    "\n",
    "## Assunzioni\n",
    "La \"STEM Bank\" ha 5 clienti:\n",
    "- Mario.\n",
    "- Alessia.\n",
    "- Anita.\n",
    "- Csaba.\n",
    "- Ron.\n",
    "\n",
    "La banca offre due tipi di conti correnti:\n",
    "- Base: gratuito.\n",
    "- Premium: costo 4 € al mese.\n",
    "\n",
    "La banca offre anche l'attivazione di servizio di scoperto.\n",
    "La copertura massima dello scoperto è:\n",
    "- 3000 € per i conti Base.\n",
    "- 12000 € per i conti Premium.\n",
    "\n",
    "Il costo dello scoperto è pari a:\n",
    "- 1 € fino a 1500 €.\n",
    "- 3.5 € fino a 3000 €.\n",
    "- 6 € fino a 5000 €.\n",
    "- 6 € + 0.05% della somma eccedente i 5000 € per gli importi sopra i 5000 €.\n",
    "\n",
    "Di seguito è presente una tabella in cui sono mostrate sinteticamente le info descritte in precedenza."
   ]
  },
  {
   "cell_type": "markdown",
   "id": "1ffc1bab",
   "metadata": {},
   "source": [
    "|                      | Mario    | Alessia  | Anita    | Csaba    | Ron      |\n",
    "|:---------------------|---------:|---------:|---------:|---------:|---------:|\n",
    "| *Tipo Conto Corrente*       | Base    | Premium  | Base    | Base    | Base    |\n",
    "| *Servizio Scoperto*      | Yes      | Yes      |  No      | Yes      |  Yes     |\n",
    "| *Saldo al 01/01/23*| 1020.01  | 120.91   | -32.12   | 1020.01  |    0     |\n",
    "\n"
   ]
  },
  {
   "cell_type": "markdown",
   "id": "7d5c656a",
   "metadata": {},
   "source": [
    "## Commenti, Variabili e Costanti\n",
    "1. Assegnare il nome della banca che offre il conto alla variabile `bank_name`. Stampare un messaggio di benvenuto usando le f-string."
   ]
  },
  {
   "cell_type": "code",
   "execution_count": 1,
   "id": "6f871751",
   "metadata": {},
   "outputs": [
    {
     "name": "stdout",
     "output_type": "stream",
     "text": [
      "Welcome to STEM Bank\n"
     ]
    }
   ],
   "source": [
    "bank_name = \"STEM Bank\"\n",
    "print(f\"Welcome to {bank_name}\")"
   ]
  },
  {
   "cell_type": "markdown",
   "id": "ceb8d7b9",
   "metadata": {},
   "source": [
    "2. Assegnare la commissione mensile del conto corrente alla variabile `premium_account_fee_monthly`."
   ]
  },
  {
   "cell_type": "code",
   "execution_count": 2,
   "id": "c462cee5",
   "metadata": {},
   "outputs": [],
   "source": [
    "premium_account_fee_monthly = 4"
   ]
  },
  {
   "cell_type": "markdown",
   "id": "5d7c117d",
   "metadata": {},
   "source": [
    "3. Verificare attraverso gli operatori di confronto che la commissione annuale sia pari a 48 €. Stampare un messaggio esplicativo."
   ]
  },
  {
   "cell_type": "code",
   "execution_count": 3,
   "id": "22086c0a",
   "metadata": {},
   "outputs": [
    {
     "name": "stdout",
     "output_type": "stream",
     "text": [
      "I conti tornano!\n"
     ]
    }
   ],
   "source": [
    "N_MONTHS = 12\n",
    "\n",
    "if (premium_account_fee_monthly * N_MONTHS) == 48:\n",
    "    print(\"I conti tornano!\")\n",
    "else:\n",
    "    print(\"Qualcosa non quadra.\")"
   ]
  },
  {
   "cell_type": "markdown",
   "id": "d6ccf341",
   "metadata": {},
   "source": [
    "## Collezioni\n",
    "1. Definire un dizionario `customer_account_type` le cui chiavi sono i clienti e i valori contenengono la tipologia di conto corrente."
   ]
  },
  {
   "cell_type": "code",
   "execution_count": 4,
   "id": "103f2c13",
   "metadata": {},
   "outputs": [],
   "source": [
    "# Livello 1\n",
    "customer_account_type = {}\n",
    "customer_account_type[\"Mario\"] = \"Base\"\n",
    "customer_account_type[\"Alessia\"] = \"Premium\"\n",
    "customer_account_type[\"Anita\"] = \"Base\"\n",
    "customer_account_type[\"Csaba\"] = \"Base\"\n",
    "customer_account_type[\"Ron\"] = \"Base\"\n",
    "\n",
    "# Livello 2\n",
    "customer_account_type = {\n",
    "    \"Mario\": \"Base\",\n",
    "    \"Alessia\": \"Premium\",\n",
    "    \"Anita\": \"Base\",\n",
    "    \"Csaba\": \"Base\",\n",
    "    \"Ron\": \"Base\",\n",
    "}\n",
    "\n",
    "# Livello 3\n",
    "## Notiamo come solo Alessia abbia un account premium, quindi usiamo una comprehension per definire il dizionario\n",
    "customer_account_type = {\n",
    "    name: \"Premium\" if (name == \"Alessia\") else \"Base\"\n",
    "    for name in (\n",
    "        \"Mario\",\n",
    "        \"Alessia\",\n",
    "        \"Anita\",\n",
    "        \"Csaba\",\n",
    "        \"Ron\",\n",
    "    )\n",
    "}"
   ]
  },
  {
   "cell_type": "markdown",
   "id": "9a2a85a5",
   "metadata": {},
   "source": [
    "2. Definire un dizionario `customer_has_overdraft` le cui chiavi sono i clienti e i valori (Bool) contenengono `True` se il prodotto `Overdraft` è attivo e `False` se non è attivo, sfruttando il fatto che le chiavi di questo dizionario devono essere le stesse di quelle del dizionario precedente."
   ]
  },
  {
   "cell_type": "code",
   "execution_count": 5,
   "id": "69b981ba",
   "metadata": {},
   "outputs": [],
   "source": [
    "# Notare come chiamare il metodo `keys` sia superfluo, l'iterazione avviene già sulle chiavi del dizionario.\n",
    "customer_has_overdraft = {name: (name != \"Anita\") for name in customer_account_type}"
   ]
  },
  {
   "cell_type": "markdown",
   "id": "691cb91e",
   "metadata": {},
   "source": [
    "3. Definire un dizionario `customer_balance_last_year` le cui chiavi sono i clienti e i valori contenengono il saldo iniziale del conto del cliente."
   ]
  },
  {
   "cell_type": "code",
   "execution_count": 6,
   "id": "0afd5b36",
   "metadata": {},
   "outputs": [],
   "source": [
    "customer_balance_last_year = {\n",
    "    \"Mario\": 1020.01,\n",
    "    \"Alessia\": 120.91,\n",
    "    \"Anita\": 32.12,\n",
    "    \"Csaba\": 1020.01,\n",
    "    \"Ron\": 0,\n",
    "}"
   ]
  },
  {
   "cell_type": "markdown",
   "id": "774da249",
   "metadata": {},
   "source": [
    "4. Per ogni cliente generare una lista di 12 numeri float tra -300.00 e 300.00 dove l'elemento di posto i rappresenta il saldo delle transazioni effettuate nell'i+1-esimo mese dell'anno. Mettiamo le liste in un dizionario e poi stampiamolo. Per eseguire questo esercizio avremo bisogno della funzione `randint` dal modulo `random`. Andiamo a leggerne la documentazione [qui](https://docs.python.org/3/library/random.html#random.randint) per capire come funziona.\n"
   ]
  },
  {
   "cell_type": "code",
   "execution_count": 7,
   "id": "52ded9a1",
   "metadata": {},
   "outputs": [
    {
     "name": "stdout",
     "output_type": "stream",
     "text": [
      "Transazioni di Mario: [-229.52, 28.79, 229.52, -135.94, -143.96, -207.25, 114.31, 227.62, 249.18, -105.42, -170.89, 2.2]\n",
      "Transazioni di Alessia: [-61.75, 146.75, -123.8, -127.97, -139.79, -157.85, 42.13, 117.51, -129.33, 84.43, 64.92, -274.23]\n",
      "Transazioni di Anita: [157.82, -13.99, 284.35, 248.2, -73.06, -143.44, -105.18, -64.47, 187.54, 294.34, -291.93, -128.14]\n",
      "Transazioni di Csaba: [131.79, 70.71, 254.95, -53.13, -104.36, -160.56, -230.94, 289.48, 111.87, -132.76, -159.42, -155.38]\n",
      "Transazioni di Ron: [109.09, -216.74, 135.72, -108.91, -71.61, -93.41, 24.56, -164.42, -84.11, 261.95, -264.37, -38.2]\n",
      "\n",
      "\n",
      "\n",
      "\n",
      "\n",
      "\n",
      "{'Mario': [-229.52, 28.79, 229.52, -135.94, -143.96, -207.25, 114.31, 227.62, 249.18, -105.42, -170.89, 2.2], 'Alessia': [-61.75, 146.75, -123.8, -127.97, -139.79, -157.85, 42.13, 117.51, -129.33, 84.43, 64.92, -274.23], 'Anita': [157.82, -13.99, 284.35, 248.2, -73.06, -143.44, -105.18, -64.47, 187.54, 294.34, -291.93, -128.14], 'Csaba': [131.79, 70.71, 254.95, -53.13, -104.36, -160.56, -230.94, 289.48, 111.87, -132.76, -159.42, -155.38], 'Ron': [109.09, -216.74, 135.72, -108.91, -71.61, -93.41, 24.56, -164.42, -84.11, 261.95, -264.37, -38.2]}\n"
     ]
    }
   ],
   "source": [
    "import random\n",
    "\n",
    "# Livello 1\n",
    "transaction_balance_mario = [(random.randint(-30_000, 30_000) / 100) for n in range(12)]\n",
    "transaction_balance_alessia = [(random.randint(-30_000, 30_000) / 100) for n in range(12)]\n",
    "transaction_balance_anita = [(random.randint(-30_000, 30_000) / 100) for n in range(12)]\n",
    "transaction_balance_csaba = [(random.randint(-30_000, 30_000) / 100) for n in range(12)]\n",
    "transaction_balance_ron = [(random.randint(-30_000, 30_000) / 100) for n in range(12)]\n",
    "\n",
    "print(f\"Transazioni di Mario: {transaction_balance_mario}\")\n",
    "print(f\"Transazioni di Alessia: {transaction_balance_alessia}\")\n",
    "print(f\"Transazioni di Anita: {transaction_balance_anita}\")\n",
    "print(f\"Transazioni di Csaba: {transaction_balance_csaba}\")\n",
    "print(f\"Transazioni di Ron: {transaction_balance_ron}\")\n",
    "\n",
    "customer_transaction_balances = {\n",
    "    \"Mario\": transaction_balance_mario,\n",
    "    \"Alessia\": transaction_balance_alessia,\n",
    "    \"Anita\": transaction_balance_anita,\n",
    "    \"Csaba\": transaction_balance_csaba,\n",
    "    \"Ron\": transaction_balance_ron,\n",
    "}\n",
    "print(\"\\n\" * 5)\n",
    "print(customer_transaction_balances)"
   ]
  },
  {
   "cell_type": "code",
   "execution_count": 8,
   "id": "fde10318",
   "metadata": {},
   "outputs": [
    {
     "name": "stdout",
     "output_type": "stream",
     "text": [
      "{'Alessia': [45.95,\n",
      "             -260.06,\n",
      "             -282.88,\n",
      "             -271.79,\n",
      "             -130.1,\n",
      "             -280.61,\n",
      "             17.14,\n",
      "             38.52,\n",
      "             -192.26,\n",
      "             160.28,\n",
      "             6.66,\n",
      "             116.82],\n",
      " 'Anita': [-34.72,\n",
      "           197.36,\n",
      "           -202.11,\n",
      "           -64.89,\n",
      "           -271.3,\n",
      "           39.32,\n",
      "           63.45,\n",
      "           -268.14,\n",
      "           79.61,\n",
      "           86.52,\n",
      "           -188.68,\n",
      "           225.6],\n",
      " 'Csaba': [63.36,\n",
      "           -267.83,\n",
      "           -225.0,\n",
      "           186.03,\n",
      "           -109.94,\n",
      "           -116.72,\n",
      "           133.34,\n",
      "           79.13,\n",
      "           0.73,\n",
      "           39.95,\n",
      "           -0.86,\n",
      "           -47.28],\n",
      " 'Mario': [221.96,\n",
      "           -238.07,\n",
      "           -202.96,\n",
      "           291.4,\n",
      "           128.14,\n",
      "           41.97,\n",
      "           235.32,\n",
      "           -96.01,\n",
      "           272.51,\n",
      "           199.01,\n",
      "           97.08,\n",
      "           -256.51],\n",
      " 'Ron': [130.54,\n",
      "         -157.93,\n",
      "         -244.5,\n",
      "         220.69,\n",
      "         -233.84,\n",
      "         -191.2,\n",
      "         152.82,\n",
      "         -45.79,\n",
      "         -245.93,\n",
      "         -266.13,\n",
      "         204.23,\n",
      "         -24.15]}\n"
     ]
    }
   ],
   "source": [
    "# Livello 2\n",
    "# Alcune osservazioni:\n",
    "# a. scrivere una lista per ogni cliente e poi inserirla in un dizionario è tedioso e c'è molto codice ripetuto\n",
    "# b. le chiavi del dizionario sono sempre le stesse dei dizionari precedenti\n",
    "# c. il dizionario stampato è illegibile, per questo usiamo la funzione `pprint` dal modulo omonimo.\n",
    "\n",
    "from pprint import pprint\n",
    "\n",
    "\n",
    "# Definiamo una funzione che ritorni direttamente la lista\n",
    "def generate_transaction_balances(min_amount: int = -300, max_amount: int = 300, n_items=12):\n",
    "    from random import randint\n",
    "\n",
    "    return [randint(min_amount * 100, max_amount * 100) / 100 for n in range(n_items)]\n",
    "\n",
    "\n",
    "# Non è strettamente necessario specificare gli argomenti nella funzione, dato che i default che abbiamo impostato\n",
    "# sono quelli che ci occorrono\n",
    "customer_transaction_balances = {name: generate_transaction_balances() for name in customer_account_type}\n",
    "\n",
    "pprint(customer_transaction_balances)"
   ]
  },
  {
   "cell_type": "code",
   "execution_count": 9,
   "id": "6eec90ea",
   "metadata": {},
   "outputs": [
    {
     "name": "stdout",
     "output_type": "stream",
     "text": [
      "{'Alessia': [40.58,\n",
      "             -293.12,\n",
      "             -190.02,\n",
      "             -215.15,\n",
      "             -80.47,\n",
      "             59.37,\n",
      "             273.64,\n",
      "             -269.07,\n",
      "             -294.81,\n",
      "             -88.03,\n",
      "             298.63,\n",
      "             192.28],\n",
      " 'Anita': [-29.96,\n",
      "           247.48,\n",
      "           265.02,\n",
      "           263.27,\n",
      "           117.51,\n",
      "           -169.77,\n",
      "           134.11,\n",
      "           109.42,\n",
      "           251.74,\n",
      "           66.1,\n",
      "           195.11,\n",
      "           91.51],\n",
      " 'Csaba': [264.41,\n",
      "           -176.32,\n",
      "           191.23,\n",
      "           50.53,\n",
      "           103.52,\n",
      "           -161.26,\n",
      "           23.14,\n",
      "           -168.76,\n",
      "           53.99,\n",
      "           -145.65,\n",
      "           173.88,\n",
      "           21.26],\n",
      " 'Mario': [184.48,\n",
      "           234.39,\n",
      "           -99.91,\n",
      "           178.31,\n",
      "           269.02,\n",
      "           -294.66,\n",
      "           -266.02,\n",
      "           267.77,\n",
      "           -27.44,\n",
      "           199.52,\n",
      "           195.41,\n",
      "           -18.55],\n",
      " 'Ron': [211.15,\n",
      "         282.63,\n",
      "         -238.74,\n",
      "         254.95,\n",
      "         284.13,\n",
      "         -113.89,\n",
      "         174.35,\n",
      "         230.5,\n",
      "         -116.88,\n",
      "         -129.05,\n",
      "         -235.9,\n",
      "         -86.32]}\n"
     ]
    }
   ],
   "source": [
    "# Livello 3\n",
    "# Notiamo come la funzione sia abbastanza semplice da non essere davvero necessaria\n",
    "# La scelta tra questa soluzione e la precedente è dettata da preferenze personali\n",
    "\n",
    "customer_transaction_balances = {\n",
    "    name: [random.randint(-30_000, 30_000) / 100 for n in range(12)] for name in customer_account_type\n",
    "}\n",
    "\n",
    "pprint(customer_transaction_balances)"
   ]
  },
  {
   "cell_type": "markdown",
   "id": "6122b649",
   "metadata": {},
   "source": [
    "## Control Flow\n",
    "1. Verificare se nel mese di Gennaio Mario ha effettuato delle transazioni. nel caso in cui l'esito sia positivo stampare il seguente messaggio \"Mario ha effettuato spese a Gennaio\" altrimento stampare il seguente messaggio \"Mario non ha effettuato spese a Gennaio\"\n"
   ]
  },
  {
   "cell_type": "code",
   "execution_count": 10,
   "id": "ffa881ec",
   "metadata": {},
   "outputs": [
    {
     "name": "stdout",
     "output_type": "stream",
     "text": [
      "Mario ha effettuato spese a Gennaio\n"
     ]
    }
   ],
   "source": [
    "# Gennaio è il primo mese, dunque ha indice 0\n",
    "if customer_transaction_balances[\"Mario\"][0] > 0:\n",
    "    print(\"Mario ha effettuato spese a Gennaio\")\n",
    "else:\n",
    "    print(\"Mario non ha effettuato spese a Gennaio\")"
   ]
  },
  {
   "cell_type": "markdown",
   "id": "0f3701f7",
   "metadata": {},
   "source": [
    "2. Verificare se la somma delle transazioni di Alessia siano negative\n"
   ]
  },
  {
   "cell_type": "code",
   "execution_count": 11,
   "id": "c276772c",
   "metadata": {},
   "outputs": [
    {
     "name": "stdout",
     "output_type": "stream",
     "text": [
      "La somma delle transazioni di Alessia è negativa\n",
      "La somma delle transazioni di Alessia è negativa\n",
      "La somma delle transazioni di Alessia è negativa\n",
      "La somma delle transazioni di Alessia è negativa\n"
     ]
    }
   ],
   "source": [
    "# Livello 1\n",
    "total_alessia = 0\n",
    "for n in range(len(customer_transaction_balances[\"Alessia\"])):\n",
    "    total_alessia = total_alessia + customer_transaction_balances[\"Alessia\"][n]\n",
    "\n",
    "if total_alessia < 0:\n",
    "    print(\"La somma delle transazioni di Alessia è negativa\")\n",
    "else:\n",
    "    print(\"La somma delle transazioni di Alessia è positivia\")\n",
    "\n",
    "# Livello 2\n",
    "# Non occorre usare range e len, possiamo iterare direttamente sugli elementi della lista\n",
    "total_alessia = 0\n",
    "for transaction in customer_transaction_balances[\"Alessia\"]:\n",
    "    total_alessia = total_alessia + transaction\n",
    "\n",
    "if total_alessia < 0:\n",
    "    print(\"La somma delle transazioni di Alessia è negativa\")\n",
    "else:\n",
    "    print(\"La somma delle transazioni di Alessia è positiva\")\n",
    "\n",
    "# Livello 3\n",
    "# Introduciamo un piccolo miglioramento con l'operatore di assegnazione con addizione (`+=`)\n",
    "total_alessia = 0\n",
    "for transaction in customer_transaction_balances[\"Alessia\"]:\n",
    "    total_alessia += transaction\n",
    "\n",
    "if total_alessia < 0:\n",
    "    print(\"La somma delle transazioni di Alessia è negativa\")\n",
    "else:\n",
    "    print(\"La somma delle transazioni di Alessia è positiva\")\n",
    "\n",
    "# Livello 4\n",
    "# La funzione `sum` è una funzione built-in (disponibile senza dover importare nulla)\n",
    "total_alessia = sum(customer_transaction_balances[\"Alessia\"])\n",
    "\n",
    "if total_alessia < 0:\n",
    "    print(\"La somma delle transazioni di Alessia è negativa\")\n",
    "else:\n",
    "    print(\"La somma delle transazioni di Alessia è positiva\")"
   ]
  },
  {
   "cell_type": "markdown",
   "id": "4041dd1f",
   "metadata": {},
   "source": [
    "3. Stampare tutte le transazioni di Mario usando la dicitura \"Transazioni Mario <nome del mese>:<valore> €\" (e.g. per il mese di Aprile \"Transazioni Mario Aprile:3 €\"). [hint](https://docs.python.org/3.3/library/functions.html#zip)"
   ]
  },
  {
   "cell_type": "code",
   "execution_count": 12,
   "id": "6d1913a5",
   "metadata": {},
   "outputs": [
    {
     "name": "stdout",
     "output_type": "stream",
     "text": [
      "Transazioni Mario Gennaio: 184.48 €\n",
      "Transazioni Mario Febbraio: 234.39 €\n",
      "Transazioni Mario Marzo: -99.91 €\n",
      "Transazioni Mario Aprile: 178.31 €\n",
      "Transazioni Mario Maggio: 269.02 €\n",
      "Transazioni Mario Giugno: -294.66 €\n",
      "Transazioni Mario Luglio: -266.02 €\n",
      "Transazioni Mario Agosto: 267.77 €\n",
      "Transazioni Mario Settembre: -27.44 €\n",
      "Transazioni Mario Ottobre: 199.52 €\n",
      "Transazioni Mario Novembre: 195.41 €\n",
      "Transazioni Mario Dicembre: -18.55 €\n"
     ]
    }
   ],
   "source": [
    "# Livello 1\n",
    "# Ci occorre la lista dei mesi\n",
    "months = [\n",
    "    \"Gennaio\",\n",
    "    \"Febbraio\",\n",
    "    \"Marzo\",\n",
    "    \"Aprile\",\n",
    "    \"Maggio\",\n",
    "    \"Giugno\",\n",
    "    \"Luglio\",\n",
    "    \"Agosto\",\n",
    "    \"Settembre\",\n",
    "    \"Ottobre\",\n",
    "    \"Novembre\",\n",
    "    \"Dicembre\",\n",
    "]\n",
    "\n",
    "# Iteriamo sulla lista delle transazioni di Mario e stampiamo l'elemento di posto corrispondente dalla lista dei mesi.\n",
    "for i in range(len(customer_transaction_balances[\"Mario\"])):\n",
    "    print(f\"Transazioni Mario {months[i]}: {customer_transaction_balances['Mario'][i]} €\")"
   ]
  },
  {
   "cell_type": "code",
   "execution_count": 13,
   "id": "2346c799",
   "metadata": {},
   "outputs": [
    {
     "name": "stdout",
     "output_type": "stream",
     "text": [
      "Transazioni Mario Gennaio: 184.48 €\n",
      "Transazioni Mario Febbraio: 234.39 €\n",
      "Transazioni Mario Marzo: -99.91 €\n",
      "Transazioni Mario Aprile: 178.31 €\n",
      "Transazioni Mario Maggio: 269.02 €\n",
      "Transazioni Mario Giugno: -294.66 €\n",
      "Transazioni Mario Luglio: -266.02 €\n",
      "Transazioni Mario Agosto: 267.77 €\n",
      "Transazioni Mario Settembre: -27.44 €\n",
      "Transazioni Mario Ottobre: 199.52 €\n",
      "Transazioni Mario Novembre: 195.41 €\n",
      "Transazioni Mario Dicembre: -18.55 €\n"
     ]
    }
   ],
   "source": [
    "# Livello 2\n",
    "# Usiamo la funzione `zip` che fa automaticamente l'intreccio tra le due liste\n",
    "months = [\n",
    "    \"Gennaio\",\n",
    "    \"Febbraio\",\n",
    "    \"Marzo\",\n",
    "    \"Aprile\",\n",
    "    \"Maggio\",\n",
    "    \"Giugno\",\n",
    "    \"Luglio\",\n",
    "    \"Agosto\",\n",
    "    \"Settembre\",\n",
    "    \"Ottobre\",\n",
    "    \"Novembre\",\n",
    "    \"Dicembre\",\n",
    "]\n",
    "for month, balance in zip(months, customer_transaction_balances[\"Mario\"], strict=True):\n",
    "    print(f\"Transazioni Mario {month}: {balance} €\")"
   ]
  },
  {
   "cell_type": "code",
   "execution_count": 14,
   "id": "2ef0668a",
   "metadata": {},
   "outputs": [
    {
     "name": "stdout",
     "output_type": "stream",
     "text": [
      "Transazioni Mario Gennaio: 184.48 €\n",
      "Transazioni Mario Febbraio: 234.39 €\n",
      "Transazioni Mario Marzo: -99.91 €\n",
      "Transazioni Mario Aprile: 178.31 €\n",
      "Transazioni Mario Maggio: 269.02 €\n",
      "Transazioni Mario Giugno: -294.66 €\n",
      "Transazioni Mario Luglio: -266.02 €\n",
      "Transazioni Mario Agosto: 267.77 €\n",
      "Transazioni Mario Settembre: -27.44 €\n",
      "Transazioni Mario Ottobre: 199.52 €\n",
      "Transazioni Mario Novembre: 195.41 €\n",
      "Transazioni Mario Dicembre: -18.55 €\n"
     ]
    }
   ],
   "source": [
    "# Livello 3\n",
    "# Elencare i nomi dei mesi è tedioso, ma la domanda da porsi davanti ad un compito tedioso in programmazione è sempre:\n",
    "# > Possibile che io sia la prima persona a scontrarsi con questo problema?\"\n",
    "# e la risposta è sempre \"No!\"\n",
    "# Da una veloce ricerca su Google scopriamo infatti che esiste il modulo `calendar` per stampare i mesi.\n",
    "import locale\n",
    "from calendar import month_name\n",
    "\n",
    "# Impostiamo la localizzazione in italiano in modo da avere i nomi in italiano.\n",
    "locale.setlocale(locale.LC_TIME, \"it_IT.UTF-8\")\n",
    "\n",
    "# Usiamo lo slicing per ottenere i nomi dei mesi che si trovano alle posizioni 1-12\n",
    "for month, balance in zip(month_name[1:13], customer_transaction_balances[\"Mario\"], strict=True):\n",
    "    print(f\"Transazioni Mario {month}: {balance} €\")"
   ]
  },
  {
   "cell_type": "markdown",
   "id": "f8d801a1",
   "metadata": {},
   "source": [
    "4. Ripetere quanto fatto con Mario anche con Alessia, ma stavolta stampando \"Mese con saldo negativo\" se l'importo è negativo."
   ]
  },
  {
   "cell_type": "code",
   "execution_count": 15,
   "id": "abd62c0c",
   "metadata": {},
   "outputs": [
    {
     "name": "stdout",
     "output_type": "stream",
     "text": [
      "Transazioni Alessia Gennaio: 40.58 €\n",
      "Mese negativo\n",
      "Mese negativo\n",
      "Mese negativo\n",
      "Mese negativo\n",
      "Transazioni Alessia Giugno: 59.37 €\n",
      "Transazioni Alessia Luglio: 273.64 €\n",
      "Mese negativo\n",
      "Mese negativo\n",
      "Mese negativo\n",
      "Transazioni Alessia Novembre: 298.63 €\n",
      "Transazioni Alessia Dicembre: 192.28 €\n"
     ]
    }
   ],
   "source": [
    "# Usiamo l'operatore ternario.\n",
    "for month, balance in zip(months, customer_transaction_balances[\"Alessia\"], strict=True):\n",
    "    msg = f\"Transazioni Alessia {month}: {balance} €\" if balance > 0 else \"Mese negativo\"\n",
    "    print(msg)"
   ]
  },
  {
   "cell_type": "markdown",
   "id": "f6169523",
   "metadata": {},
   "source": [
    "## Funzioni\n",
    "\n",
    "1. Definire una funzione `get_transaction_sign` che restituisca il valore `True` se la transazione ha segno negativo e `False` se ha segno positivo."
   ]
  },
  {
   "cell_type": "code",
   "execution_count": 16,
   "id": "a1768bc0",
   "metadata": {},
   "outputs": [],
   "source": [
    "# Livello 1\n",
    "def get_transaction_sign(transaction):\n",
    "    return transaction < 0\n",
    "\n",
    "\n",
    "# Livello 2\n",
    "# La funzione non può essere migliorata oltre in termini di leggibilità o di ottimizzazione, ma può essere documentata\n",
    "# meglio usando le docstrings e le annotazioni di tipo. Le docstring sono stringhe di documentazione che spiegano cosa\n",
    "# fa la funzione, che tipo di argomenti si aspetta di ricevere, che cosa ritorna\n",
    "def get_transaction_sign(transaction: int) -> bool:\n",
    "    \"\"\"Tells if the transaction has a negative sign.\n",
    "\n",
    "    Args:\n",
    "        transaction (int): the transaction to analyze.\n",
    "\n",
    "    Returns:\n",
    "        bool: True if the transaction is negative, False otherwise.\n",
    "    \"\"\"\n",
    "    return transaction < 0"
   ]
  },
  {
   "cell_type": "markdown",
   "id": "47f3ee75",
   "metadata": {},
   "source": [
    "2. Definire una funzione `get_transaction_sum` che riceva in input la lista delle transazioni e fornisca in output la somma delle transazioni. Verificare il risultato della funzione usando la lista delle transazioni di Alessia e confrontandolo con l'esercizio della sezione control flow."
   ]
  },
  {
   "cell_type": "code",
   "execution_count": 17,
   "id": "dfd617ed",
   "metadata": {},
   "outputs": [],
   "source": [
    "def get_transaction_sum(transactions: list[int]) -> int:\n",
    "    \"\"\"Sums all the transactions.\n",
    "\n",
    "    Args:\n",
    "        transactions (list[int]): list of transactions to sum.\n",
    "\n",
    "    Returns:\n",
    "        int: sum of the transactions in the input list.\n",
    "    \"\"\"\n",
    "    return sum(transactions)"
   ]
  },
  {
   "cell_type": "markdown",
   "id": "3d1f5a1f",
   "metadata": {},
   "source": [
    "3. Definire una funzione `get_overdraft_monthly_fees` che, dato un importo di scoperto, restituisca la commissione da pagare per quel dato mese."
   ]
  },
  {
   "cell_type": "code",
   "execution_count": 18,
   "id": "a9c6659d",
   "metadata": {},
   "outputs": [],
   "source": [
    "# Rivediamo le regole definite all'inizio\n",
    "# - 1 € fino a 1500 €.\n",
    "# - 3.5 € fino a 3000 €.\n",
    "# - 6 € fino a 5000 €.\n",
    "# - 6 € + 0.05% della somma eccedente i 5000 € per gli importi sopra i 5000 €.\n",
    "\n",
    "# Level 1\n",
    "def get_overdraft_monthly_fees(overdraft_amount: float) -> float:\n",
    "    \"\"\"Calculate the monthly overdraft fees in euros based on the overdraft amount.\n",
    "\n",
    "    This function calculates the monthly fees in euros for an overdraft based on the\n",
    "    given overdraft amount. The fees are determined as follows:\n",
    "    - Overdraft up to €1500: €1 fee\n",
    "    - Overdraft from €1501 to €3000: €3.5 fee\n",
    "    - Overdraft from €3001 to €5000: €6 fee\n",
    "    - Overdraft above €5000: €6 plus an additional 0.05% of the amount over €5000\n",
    "\n",
    "    Args:\n",
    "        overdraft_amount (float): The amount of overdraft in euros.\n",
    "\n",
    "    Returns:\n",
    "        float: The calculated monthly fee in euros for the overdraft.\n",
    "    \"\"\"\n",
    "    if overdraft_amount <= 1500:\n",
    "        overdraft_monthly_fees = 1\n",
    "    elif overdraft_amount <= 3000:\n",
    "        overdraft_monthly_fees = 3.5\n",
    "    elif overdraft_amount <= 5000:\n",
    "        overdraft_monthly_fees = 6\n",
    "    else:\n",
    "        overdraft_monthly_fees = 6 + (overdraft_amount - 5000) * (0.05 / 100)\n",
    "    return overdraft_monthly_fees\n",
    "\n",
    "\n",
    "# Level 2\n",
    "# Le condizioni sono mutualmente esclusive (c'è l'`elif``) quindi le controlliamo una alla volta fino a che non ne\n",
    "# troviamo una verificata, ma allora assegnare la variabile al solo scopo di ritornarla è superfluo e peggiora la\n",
    "# leggibilità. Notare come usiamo `if` invece di `elif`, dato che il `return` ci assicura di fermarci alla prima\n",
    "# condizione soddisfatta.\n",
    "def get_overdraft_monthly_fees(overdraft_amount: float) -> float:\n",
    "    \"\"\"Calculate the monthly overdraft fees in euros based on the overdraft amount.\n",
    "\n",
    "    This function calculates the monthly fees in euros for an overdraft based on the\n",
    "    given overdraft amount. The fees are determined as follows:\n",
    "    - Overdraft up to €1500: €1 fee\n",
    "    - Overdraft from €1501 to €3000: €3.5 fee\n",
    "    - Overdraft from €3001 to €5000: €6 fee\n",
    "    - Overdraft above €5000: €6 plus an additional 0.05% of the amount over €5000\n",
    "\n",
    "    Args:\n",
    "        overdraft_amount (float): The amount of overdraft in euros.\n",
    "\n",
    "    Returns:\n",
    "        float: The calculated monthly fee in euros for the overdraft.\n",
    "    \"\"\"\n",
    "    if overdraft_amount <= 1500:\n",
    "        return 1\n",
    "    if overdraft_amount <= 3000:\n",
    "        return 3.5\n",
    "    if overdraft_amount <= 5000:\n",
    "        return 6\n",
    "    return 6 + (overdraft_amount - 5000) * (0.05 / 100)\n",
    "\n",
    "\n",
    "# Level 3\n",
    "# C'è un problema con l'implementazione precedente: non controlliamo che l'ammontare dello scoperto che ci viene\n",
    "# passato sia positivo!\n",
    "def get_overdraft_monthly_fees(overdraft_amount: float) -> float:\n",
    "    \"\"\"Calculate the monthly overdraft fees in euros based on the overdraft amount.\n",
    "\n",
    "    This function calculates the monthly fees in euros for an overdraft based on the\n",
    "    given overdraft amount. The fees are determined as follows:\n",
    "    - Overdraft up to €1500: €1 fee\n",
    "    - Overdraft from €1501 to €3000: €3.5 fee\n",
    "    - Overdraft from €3001 to €5000: €6 fee\n",
    "    - Overdraft above €5000: €6 plus an additional 0.05% of the amount over €5000\n",
    "\n",
    "    Args:\n",
    "        overdraft_amount (float): The amount of overdraft in euros.\n",
    "\n",
    "    Returns:\n",
    "        float: The calculated monthly fee in euros for the overdraft.\n",
    "    \"\"\"\n",
    "    if overdraft_amount < 0:\n",
    "        raise ValueError(\"Overdraft amount must be a positive number\")\n",
    "    if overdraft_amount <= 1500:\n",
    "        return 1\n",
    "    if overdraft_amount <= 3000:\n",
    "        return 3.5\n",
    "    if overdraft_amount <= 5000:\n",
    "        return 6\n",
    "    return 6 + (overdraft_amount - 5000) * (0.05 / 100)"
   ]
  },
  {
   "cell_type": "markdown",
   "id": "865bd037",
   "metadata": {},
   "source": [
    "## Classi\n",
    "\n",
    "1. Finora abbiamo considerato le varie caratteristiche del cliente in maniera separata. Ora creiamo una classe `Customer` che contenga tutte le informazioni pertinenti ad un dato cliente. La classe dovrà avere quindi gli attributi: `account_type` (\"Base\" o \"Premium\"), `has_overdraft_service`(`True` o `False`) ed il bilancio (un numero float) ed ovviamente un attributo `name` contente il nome del cliente. Dovremo poter inizializzare la classe per Mario così:\n",
    "\n",
    "    ```python\n",
    "    mario = Customer(\"Mario\", \"Base\", True, 1020.01)\n",
    "    ```"
   ]
  },
  {
   "cell_type": "code",
   "execution_count": 19,
   "id": "a538bc5c",
   "metadata": {},
   "outputs": [],
   "source": [
    "# Level 1\n",
    "class Customer:\n",
    "    def __init__(\n",
    "        self,\n",
    "        name: str,\n",
    "        account_type: str,\n",
    "        has_overdraft_service: bool,\n",
    "        balance: float,\n",
    "    ):\n",
    "        self.name = name\n",
    "        self.account_type = account_type\n",
    "        self.has_overdraft_service = has_overdraft_service\n",
    "        self.balance = balance\n",
    "\n",
    "\n",
    "mario = Customer(\"Mario\", \"Base\", True, 1020.01)\n",
    "\n",
    "# Level 2\n",
    "# Sarebbe utile tenere traccia dei costi del conto premium e del servizio di scoperto sono utili"
   ]
  },
  {
   "cell_type": "markdown",
   "id": "e54f61a4",
   "metadata": {},
   "source": [
    "2. Ridefiniamo la classe aggiungendo un metodo `get_fees`` che restituisca il costo del conto del cliente. Stampiamo il messaggio \"Commissioni mensili Mario (conto: <tipo di conto>): <importo>\"."
   ]
  },
  {
   "cell_type": "code",
   "execution_count": 20,
   "id": "c60c08e6",
   "metadata": {},
   "outputs": [
    {
     "data": {
      "text/plain": [
       "0.0"
      ]
     },
     "execution_count": 20,
     "metadata": {},
     "output_type": "execute_result"
    }
   ],
   "source": [
    "class Customer:\n",
    "    def __init__(\n",
    "        self,\n",
    "        name: str,\n",
    "        account_type: str,\n",
    "        has_overdraft_service: bool,\n",
    "        balance: float,\n",
    "    ):\n",
    "        self.name = name\n",
    "        self.account_type = account_type\n",
    "        self.has_overdraft_service = has_overdraft_service\n",
    "        self.balance = balance\n",
    "\n",
    "    def get_fees(self) -> float:\n",
    "        return 4.00 if (self.account_type == \"Premium\") else 0.00\n",
    "\n",
    "\n",
    "mario = Customer(\"Mario\", \"Base\", True, 1020.01)\n",
    "mario.get_fees()"
   ]
  },
  {
   "cell_type": "markdown",
   "id": "e88700d5",
   "metadata": {},
   "source": [
    "3. Aggiungiamo un metodo `upgrade`che modifica il tipo di conto facendolo passare a Premium. Cambiamo il tipo di conto di Mario e invochiamo nuovamente il metodo `get_fees`."
   ]
  },
  {
   "cell_type": "code",
   "execution_count": 21,
   "id": "b3e26604",
   "metadata": {},
   "outputs": [
    {
     "name": "stdout",
     "output_type": "stream",
     "text": [
      "Commissioni mensili Mario (conto: Base): 0\n",
      "Commissioni mensili Mario (conto: Premium): 4.0\n"
     ]
    }
   ],
   "source": [
    "class Customer:\n",
    "    def __init__(\n",
    "        self,\n",
    "        name: str,\n",
    "        account_type: str,\n",
    "        has_overdraft_service: bool,\n",
    "        balance: float,\n",
    "    ):\n",
    "        self.name = name\n",
    "        self.account_type = account_type\n",
    "        self.has_overdraft_service = has_overdraft_service\n",
    "        self.balance = balance\n",
    "\n",
    "    def get_fees(self) -> float:\n",
    "        return 4.00 if (self.account_type == \"Premium\") else 0\n",
    "\n",
    "    def upgrade(self) -> None:\n",
    "        self.account_type = \"Premium\"\n",
    "\n",
    "\n",
    "mario = Customer(\"Mario\", \"Base\", True, 1020.01)\n",
    "print(f\"Commissioni mensili {mario.name} (conto: {mario.account_type}): {mario.get_fees()}\")\n",
    "mario.upgrade()\n",
    "print(f\"Commissioni mensili {mario.name} (conto: {mario.account_type}): {mario.get_fees()}\")"
   ]
  },
  {
   "cell_type": "markdown",
   "id": "70fb1dc2",
   "metadata": {},
   "source": [
    "## Esercizio Finale\n",
    "Completiamo il puzzle\n",
    "1. Calcolare il saldo al 31/12/23 per ciascun cliente `outstanding_eoy_customer`."
   ]
  },
  {
   "cell_type": "code",
   "execution_count": 22,
   "id": "ec5f1bf4",
   "metadata": {},
   "outputs": [
    {
     "name": "stdout",
     "output_type": "stream",
     "text": [
      "{'Alessia': -445.2600000000001,\n",
      " 'Anita': 1573.6599999999999,\n",
      " 'Csaba': 1249.98,\n",
      " 'Mario': 1842.33,\n",
      " 'Ron': 516.93}\n"
     ]
    }
   ],
   "source": [
    "# Il saldo di fine anno di ciascun cliente non è altro che la somma dei saldi mensili più il saldo dell'anno precedente.\n",
    "# Abbiamo già implementato tutti gli elementi per risolvere il problema, non ci rimane che usarli.\n",
    "\n",
    "# Calcoliamo prima i totali dell'anno corrente, creando un nuovo dizionario a partire da quello che contiene le liste\n",
    "# dei saldi mensili delle transazioni del cliente.\n",
    "customer_balance_current_year = {\n",
    "    name: get_transaction_sum(customer_transaction_balances[name]) for name in customer_transaction_balances\n",
    "}\n",
    "\n",
    "# Sommiamo poi il saldo dell'anno precedente e stampiamo il risultato.\n",
    "customer_balance_final = {\n",
    "    name: (current_year_total + customer_balance_last_year[name])\n",
    "    for name, current_year_total in customer_balance_current_year.items()\n",
    "}\n",
    "\n",
    "pprint(customer_balance_final)"
   ]
  },
  {
   "cell_type": "markdown",
   "id": "85284b1c",
   "metadata": {},
   "source": [
    "2. Mostrare a video i nomi dei clienti che hanno utilizzato il servizio di scoperto e i mesi in cui lo hanno fatto."
   ]
  },
  {
   "cell_type": "code",
   "execution_count": 23,
   "id": "7130b5b9",
   "metadata": {},
   "outputs": [
    {
     "name": "stdout",
     "output_type": "stream",
     "text": [
      "Analisi del cliente Mario\n",
      "Analisi del mese Gennaio per il cliente Mario.\n",
      "Analisi del mese Febbraio per il cliente Mario.\n",
      "Analisi del mese Marzo per il cliente Mario.\n",
      "Analisi del mese Aprile per il cliente Mario.\n",
      "Analisi del mese Maggio per il cliente Mario.\n",
      "Analisi del mese Giugno per il cliente Mario.\n",
      "Analisi del mese Luglio per il cliente Mario.\n",
      "Analisi del mese Agosto per il cliente Mario.\n",
      "Analisi del mese Settembre per il cliente Mario.\n",
      "Analisi del mese Ottobre per il cliente Mario.\n",
      "Analisi del mese Novembre per il cliente Mario.\n",
      "Analisi del mese Dicembre per il cliente Mario.\n",
      "Analisi del cliente Alessia\n",
      "Analisi del mese Gennaio per il cliente Alessia.\n",
      "Analisi del mese Febbraio per il cliente Alessia.\n",
      "Il cliente Alessia ha un saldo di -131.63 nel mese di Febbraio.\n",
      "Analisi del mese Marzo per il cliente Alessia.\n",
      "Il cliente Alessia ha un saldo di -321.65 nel mese di Marzo.\n",
      "Analisi del mese Aprile per il cliente Alessia.\n",
      "Il cliente Alessia ha un saldo di -536.8 nel mese di Aprile.\n",
      "Analisi del mese Maggio per il cliente Alessia.\n",
      "Il cliente Alessia ha un saldo di -617.27 nel mese di Maggio.\n",
      "Analisi del mese Giugno per il cliente Alessia.\n",
      "Il cliente Alessia ha un saldo di -557.9 nel mese di Giugno.\n",
      "Analisi del mese Luglio per il cliente Alessia.\n",
      "Il cliente Alessia ha un saldo di -284.26 nel mese di Luglio.\n",
      "Analisi del mese Agosto per il cliente Alessia.\n",
      "Il cliente Alessia ha un saldo di -553.3299999999999 nel mese di Agosto.\n",
      "Analisi del mese Settembre per il cliente Alessia.\n",
      "Il cliente Alessia ha un saldo di -848.1399999999999 nel mese di Settembre.\n",
      "Analisi del mese Ottobre per il cliente Alessia.\n",
      "Il cliente Alessia ha un saldo di -936.1699999999998 nel mese di Ottobre.\n",
      "Analisi del mese Novembre per il cliente Alessia.\n",
      "Il cliente Alessia ha un saldo di -637.5399999999998 nel mese di Novembre.\n",
      "Analisi del mese Dicembre per il cliente Alessia.\n",
      "Il cliente Alessia ha un saldo di -445.2599999999999 nel mese di Dicembre.\n",
      "Analisi del cliente Anita\n",
      "Il cliente Anita non ha attivo il servizio di scoperto.\n",
      "Analisi del cliente Csaba\n",
      "Analisi del mese Gennaio per il cliente Csaba.\n",
      "Analisi del mese Febbraio per il cliente Csaba.\n",
      "Analisi del mese Marzo per il cliente Csaba.\n",
      "Analisi del mese Aprile per il cliente Csaba.\n",
      "Analisi del mese Maggio per il cliente Csaba.\n",
      "Analisi del mese Giugno per il cliente Csaba.\n",
      "Analisi del mese Luglio per il cliente Csaba.\n",
      "Analisi del mese Agosto per il cliente Csaba.\n",
      "Analisi del mese Settembre per il cliente Csaba.\n",
      "Analisi del mese Ottobre per il cliente Csaba.\n",
      "Analisi del mese Novembre per il cliente Csaba.\n",
      "Analisi del mese Dicembre per il cliente Csaba.\n",
      "Analisi del cliente Ron\n",
      "Analisi del mese Gennaio per il cliente Ron.\n",
      "Analisi del mese Febbraio per il cliente Ron.\n",
      "Analisi del mese Marzo per il cliente Ron.\n",
      "Analisi del mese Aprile per il cliente Ron.\n",
      "Analisi del mese Maggio per il cliente Ron.\n",
      "Analisi del mese Giugno per il cliente Ron.\n",
      "Analisi del mese Luglio per il cliente Ron.\n",
      "Analisi del mese Agosto per il cliente Ron.\n",
      "Analisi del mese Settembre per il cliente Ron.\n",
      "Analisi del mese Ottobre per il cliente Ron.\n",
      "Analisi del mese Novembre per il cliente Ron.\n",
      "Analisi del mese Dicembre per il cliente Ron.\n",
      "{'Alessia': ['Febbraio',\n",
      "             'Marzo',\n",
      "             'Aprile',\n",
      "             'Maggio',\n",
      "             'Giugno',\n",
      "             'Luglio',\n",
      "             'Agosto',\n",
      "             'Settembre',\n",
      "             'Ottobre',\n",
      "             'Novembre',\n",
      "             'Dicembre'],\n",
      " 'Anita': [],\n",
      " 'Csaba': [],\n",
      " 'Mario': [],\n",
      " 'Ron': []}\n",
      "{'Alessia': ['Febbraio',\n",
      "             'Marzo',\n",
      "             'Aprile',\n",
      "             'Maggio',\n",
      "             'Giugno',\n",
      "             'Luglio',\n",
      "             'Agosto',\n",
      "             'Settembre',\n",
      "             'Ottobre',\n",
      "             'Novembre',\n",
      "             'Dicembre'],\n",
      " 'Anita': [],\n",
      " 'Csaba': [],\n",
      " 'Mario': [],\n",
      " 'Ron': []}\n"
     ]
    }
   ],
   "source": [
    "# Per capire se un cliente ha utilizzato il servizio di scoperto in un dato mese bisogna controllare se il saldo in quel\n",
    "# mese fosse negativo. Dobbiamo quindi per ciascun cliente:\n",
    "# - partire dal saldo alla fine dell'anno precedente\n",
    "# - aggiungere il saldo delle transazioni di Gennaio\n",
    "# - se il valore ottenuto è negativo salvare il nome del cliente e del mese in una collezione\n",
    "# - ripetere per i mesi successivi\n",
    "\n",
    "\n",
    "# Level 1\n",
    "customer_overdraft_usage = {}\n",
    "\n",
    "for customer_name, starting_balance in customer_balance_last_year.items():\n",
    "    print(f\"Analisi del cliente {customer_name}\")\n",
    "\n",
    "    # Inizializziamo una lista vuota per tenere traccia dei mesi in cui il cliente attuale ha usato lo scoperto.\n",
    "    current_customer_overdraft_months = []\n",
    "\n",
    "    # Fermiamoci immediatamente se il cliente non ha attivo il servizio di scoperto.\n",
    "    if customer_has_overdraft[customer_name] == False:\n",
    "        print(f\"Il cliente {customer_name} non ha attivo il servizio di scoperto.\")\n",
    "        # Aggiungiamo una lista vuota nel dizionario per il cliente attuale\n",
    "        customer_overdraft_usage[customer_name] = []\n",
    "\n",
    "        continue\n",
    "    # Inizializziamo al fine anno precedente\n",
    "    balance_at_months_end = starting_balance\n",
    "    # Iteriamo sui mesi\n",
    "    for n_month in range(N_MONTHS):\n",
    "        month_name = months[n_month]\n",
    "        print(f\"Analisi del mese {month_name} per il cliente {customer_name}.\")\n",
    "        # Aggiungiamo il saldo delle transazioni del mese in esame\n",
    "        balance_at_months_end += customer_transaction_balances[customer_name][n_month]\n",
    "        # Se siamo in negativo, dobbiamo aggiungere il nome del mese corrente alla lista\n",
    "        if balance_at_months_end < 0:\n",
    "            print(f\"Il cliente {customer_name} ha un saldo di {balance_at_months_end} nel mese di {month_name}.\")\n",
    "            current_customer_overdraft_months.append(month_name)\n",
    "\n",
    "    # Completata l'iterazione sui mesi abbiamo che la lista current_customer_overdraft_months contiene i nomi dei mesi\n",
    "    # in cui il cliente attualmente in considerazione ha usato lo scoperto, dobbiamo solo salvarlo nel dizionario che\n",
    "    # abbiamo predisposto in precedenza\n",
    "    customer_overdraft_usage[customer_name] = current_customer_overdraft_months\n",
    "\n",
    "pprint(customer_overdraft_usage)\n",
    "\n",
    "# Level 2\n",
    "# Introduciamo alcune migliorie: quando abbiamo bisogno sia dell'indice che dell'elemento in una iterazione possiamo\n",
    "# usare enumerate. Inoltre possiamo verificare che una condizione è falsa tramite l'operatore not\n",
    "customer_overdraft_usage = {}\n",
    "\n",
    "for customer_name, starting_balance in customer_balance_last_year.items():\n",
    "    if not customer_has_overdraft[customer_name]:\n",
    "        customer_overdraft_usage[customer_name] = []\n",
    "        continue\n",
    "\n",
    "    balance_at_months_end = starting_balance\n",
    "    overdraft_months = []\n",
    "\n",
    "    for n_month, month in enumerate(months):\n",
    "        balance_at_months_end += customer_transaction_balances[customer_name][n_month]\n",
    "        if balance_at_months_end < 0:\n",
    "            overdraft_months.append(month)\n",
    "\n",
    "    customer_overdraft_usage[customer_name] = overdraft_months\n",
    "\n",
    "pprint(customer_overdraft_usage)"
   ]
  },
  {
   "cell_type": "markdown",
   "id": "e54fcb82",
   "metadata": {},
   "source": [
    "3. Calcolare i ricavi totali per cliente `tot_rev_on_customer` come la somma di tutte le commissioni applicate per il conto e per gli scoperti."
   ]
  },
  {
   "cell_type": "code",
   "execution_count": 24,
   "id": "f4f147b8",
   "metadata": {},
   "outputs": [
    {
     "name": "stdout",
     "output_type": "stream",
     "text": [
      "{'Alessia': 11, 'Anita': None, 'Csaba': 0, 'Mario': 0, 'Ron': 0}\n"
     ]
    }
   ],
   "source": [
    "# Per risolvere l'esercizio è sufficiente modificare il codice precedente per tenere traccia dell'ammontare della\n",
    "# commissione\n",
    "\n",
    "customer_overdraft_fees = {}\n",
    "\n",
    "for customer_name, starting_balance in customer_balance_last_year.items():\n",
    "    if not customer_has_overdraft[customer_name]:\n",
    "        # Piuttosto che registrare uno zero, è preferibile usare un None per discriminare tra chi ha il servizio attivo\n",
    "        # ma non ne ha usufruito e chi invece non lo ha affatto.\n",
    "        customer_overdraft_fees[customer_name] = None\n",
    "        continue\n",
    "\n",
    "    balance_at_months_end = starting_balance\n",
    "    total_fees = 0\n",
    "\n",
    "    for n_month, month in enumerate(months):\n",
    "        balance_at_months_end += customer_transaction_balances[customer_name][n_month]\n",
    "        if balance_at_months_end < 0:\n",
    "            total_fees += get_overdraft_monthly_fees(abs(balance_at_months_end))\n",
    "\n",
    "    customer_overdraft_fees[customer_name] = total_fees\n",
    "\n",
    "pprint(customer_overdraft_fees)"
   ]
  },
  {
   "cell_type": "markdown",
   "id": "827303d5",
   "metadata": {},
   "source": [
    "4. Calcolare i ricavi complessivi della banca `tot_rev_bank`."
   ]
  },
  {
   "cell_type": "code",
   "execution_count": 25,
   "id": "ec4e1ba0",
   "metadata": {},
   "outputs": [
    {
     "name": "stdout",
     "output_type": "stream",
     "text": [
      "Ricavi totali: 11\n"
     ]
    }
   ],
   "source": [
    "# I ricavi complessivi si ottengono sommando i valori ottenuti nello step precedente, tuttavia c'è un'accortezza di cui\n",
    "# tener conto: abbiamo registrato un None per Anita, che non ha attivo il servizio di scoperto. Dobbiamo quindi sommare\n",
    "# non su customer_overdraft_fees ma su una lista costruita a partire da questo dizionario\n",
    "\n",
    "total_fees_final = sum([value if value else 0 for _, value in customer_overdraft_fees.items()])\n",
    "print(f\"Ricavi totali: {total_fees_final}\")"
   ]
  }
 ],
 "metadata": {
  "kernelspec": {
   "display_name": "Python 3 (ipykernel)",
   "language": "python",
   "name": "python3"
  },
  "language_info": {
   "codemirror_mode": {
    "name": "ipython",
    "version": 3
   },
   "file_extension": ".py",
   "mimetype": "text/x-python",
   "name": "python",
   "nbconvert_exporter": "python",
   "pygments_lexer": "ipython3",
   "version": "3.12.2"
  }
 },
 "nbformat": 4,
 "nbformat_minor": 5
}
