{
 "cells": [
  {
   "cell_type": "markdown",
   "id": "4c2a3adb",
   "metadata": {},
   "source": [
    "# Esercizio\n",
    "\n",
    "## Assunzioni\n",
    "La \"STEM Bank\" ha 5 clienti:\n",
    "- Mario.\n",
    "- Alessia.\n",
    "- Anita.\n",
    "- Csaba.\n",
    "- Ron.\n",
    "\n",
    "La banca offre due tipi di conti correnti:\n",
    "- Base: gratuito.\n",
    "- Premium: costo 4 € al mese.\n",
    "\n",
    "La banca offre anche l'attivazione di servizio di scoperto.\n",
    "La copertura massima dello scoperto è:\n",
    "- 3000 € per i conti Base.\n",
    "- 12000 € per i conti Premium.\n",
    "\n",
    "Il costo dello scoperto è pari a:\n",
    "- 1 € fino a 1500 €.\n",
    "- 3.5 € fino a 3000 €.\n",
    "- 6 € fino a 5000 €.\n",
    "- 6 € + 0.05% della somma eccedente i 5000 € per gli importi sopra i 5000 €.\n",
    "\n",
    "Di seguito è presente una tabella in cui sono mostrate sinteticamente le info descritte in precedenza."
   ]
  },
  {
   "cell_type": "markdown",
   "id": "1ffc1bab",
   "metadata": {},
   "source": [
    "|                      | Mario    | Alessia  | Anita    | Csaba    | Ron      |\n",
    "|:---------------------|---------:|---------:|---------:|---------:|---------:|\n",
    "| *Tipo Conto Corrente*       | Base    | Premium  | Base    | Base    | Base    |\n",
    "| *Servizio Scoperto*      | Yes      | Yes      |  No      | Yes      |  Yes     |\n",
    "| *Saldo al 01/01/23*| 1020.01  | 120.91   | -32.12   | 1020.01  |    0     |\n",
    "\n"
   ]
  },
  {
   "cell_type": "markdown",
   "id": "7d5c656a",
   "metadata": {},
   "source": [
    "## Commenti, Variabili e Costanti\n",
    "1. Assegnare il nome della banca che offre il conto alla variabile `bank_name`. Stampare un messaggio di benvenuto usando le f-string."
   ]
  },
  {
   "cell_type": "code",
   "execution_count": 1,
   "id": "6f871751",
   "metadata": {},
   "outputs": [
    {
     "name": "stdout",
     "output_type": "stream",
     "text": [
      "Welcome to STEM Bank\n"
     ]
    }
   ],
   "source": []
  },
  {
   "cell_type": "markdown",
   "id": "ceb8d7b9",
   "metadata": {},
   "source": [
    "2. Assegnare la commissione mensile del conto corrente alla variabile `premium_account_fee_monthly`."
   ]
  },
  {
   "cell_type": "code",
   "execution_count": 2,
   "id": "c462cee5",
   "metadata": {},
   "outputs": [],
   "source": []
  },
  {
   "cell_type": "markdown",
   "id": "5d7c117d",
   "metadata": {},
   "source": [
    "3. Verificare attraverso gli operatori di confronto che la commissione annuale sia pari a 48 €. Stampare un messaggio esplicativo."
   ]
  },
  {
   "cell_type": "code",
   "execution_count": 3,
   "id": "22086c0a",
   "metadata": {},
   "outputs": [
    {
     "name": "stdout",
     "output_type": "stream",
     "text": [
      "I conti tornano!\n"
     ]
    }
   ],
   "source": []
  },
  {
   "cell_type": "markdown",
   "id": "d6ccf341",
   "metadata": {},
   "source": [
    "## Collezioni\n",
    "1. Definire un dizionario `customer_account_type` le cui chiavi sono i clienti e i valori contenengono la tipologia di conto corrente."
   ]
  },
  {
   "cell_type": "code",
   "execution_count": 4,
   "id": "103f2c13",
   "metadata": {},
   "outputs": [],
   "source": []
  },
  {
   "cell_type": "markdown",
   "id": "9a2a85a5",
   "metadata": {},
   "source": [
    "2. Definire un dizionario `customer_has_overdraft` le cui chiavi sono i clienti e i valori (Bool) contenengono `True` se il prodotto `Overdraft` è attivo e `False` se non è attivo, sfruttando il fatto che le chiavi di questo dizionario devono essere le stesse di quelle del dizionario precedente."
   ]
  },
  {
   "cell_type": "code",
   "execution_count": 5,
   "id": "69b981ba",
   "metadata": {},
   "outputs": [],
   "source": []
  },
  {
   "cell_type": "markdown",
   "id": "691cb91e",
   "metadata": {},
   "source": [
    "3. Definire un dizionario `customer_balance_last_year` le cui chiavi sono i clienti e i valori contenengono il saldo iniziale del conto del cliente."
   ]
  },
  {
   "cell_type": "code",
   "execution_count": 6,
   "id": "0afd5b36",
   "metadata": {},
   "outputs": [],
   "source": []
  },
  {
   "cell_type": "markdown",
   "id": "774da249",
   "metadata": {},
   "source": [
    "4. Per ogni cliente generare una lista di 12 numeri float tra -300.00 e 300.00 dove l'elemento di posto i rappresenta il saldo delle transazioni effettuate nell'i+1-esimo mese dell'anno. Mettiamo le liste in un dizionario e poi stampiamolo. Per eseguire questo esercizio avremo bisogno della funzione `randint` dal modulo `random`. Andiamo a leggerne la documentazione [qui](https://docs.python.org/3/library/random.html#random.randint) per capire come funziona.\n"
   ]
  },
  {
   "cell_type": "code",
   "execution_count": 7,
   "id": "52ded9a1",
   "metadata": {},
   "outputs": [
    {
     "name": "stdout",
     "output_type": "stream",
     "text": [
      "Transazioni di Mario: [-229.52, 28.79, 229.52, -135.94, -143.96, -207.25, 114.31, 227.62, 249.18, -105.42, -170.89, 2.2]\n",
      "Transazioni di Alessia: [-61.75, 146.75, -123.8, -127.97, -139.79, -157.85, 42.13, 117.51, -129.33, 84.43, 64.92, -274.23]\n",
      "Transazioni di Anita: [157.82, -13.99, 284.35, 248.2, -73.06, -143.44, -105.18, -64.47, 187.54, 294.34, -291.93, -128.14]\n",
      "Transazioni di Csaba: [131.79, 70.71, 254.95, -53.13, -104.36, -160.56, -230.94, 289.48, 111.87, -132.76, -159.42, -155.38]\n",
      "Transazioni di Ron: [109.09, -216.74, 135.72, -108.91, -71.61, -93.41, 24.56, -164.42, -84.11, 261.95, -264.37, -38.2]\n",
      "\n",
      "\n",
      "\n",
      "\n",
      "\n",
      "\n",
      "{'Mario': [-229.52, 28.79, 229.52, -135.94, -143.96, -207.25, 114.31, 227.62, 249.18, -105.42, -170.89, 2.2], 'Alessia': [-61.75, 146.75, -123.8, -127.97, -139.79, -157.85, 42.13, 117.51, -129.33, 84.43, 64.92, -274.23], 'Anita': [157.82, -13.99, 284.35, 248.2, -73.06, -143.44, -105.18, -64.47, 187.54, 294.34, -291.93, -128.14], 'Csaba': [131.79, 70.71, 254.95, -53.13, -104.36, -160.56, -230.94, 289.48, 111.87, -132.76, -159.42, -155.38], 'Ron': [109.09, -216.74, 135.72, -108.91, -71.61, -93.41, 24.56, -164.42, -84.11, 261.95, -264.37, -38.2]}\n"
     ]
    }
   ],
   "source": []
  },
  {
   "cell_type": "code",
   "execution_count": 8,
   "id": "fde10318",
   "metadata": {},
   "outputs": [
    {
     "name": "stdout",
     "output_type": "stream",
     "text": [
      "{'Alessia': [45.95,\n",
      "             -260.06,\n",
      "             -282.88,\n",
      "             -271.79,\n",
      "             -130.1,\n",
      "             -280.61,\n",
      "             17.14,\n",
      "             38.52,\n",
      "             -192.26,\n",
      "             160.28,\n",
      "             6.66,\n",
      "             116.82],\n",
      " 'Anita': [-34.72,\n",
      "           197.36,\n",
      "           -202.11,\n",
      "           -64.89,\n",
      "           -271.3,\n",
      "           39.32,\n",
      "           63.45,\n",
      "           -268.14,\n",
      "           79.61,\n",
      "           86.52,\n",
      "           -188.68,\n",
      "           225.6],\n",
      " 'Csaba': [63.36,\n",
      "           -267.83,\n",
      "           -225.0,\n",
      "           186.03,\n",
      "           -109.94,\n",
      "           -116.72,\n",
      "           133.34,\n",
      "           79.13,\n",
      "           0.73,\n",
      "           39.95,\n",
      "           -0.86,\n",
      "           -47.28],\n",
      " 'Mario': [221.96,\n",
      "           -238.07,\n",
      "           -202.96,\n",
      "           291.4,\n",
      "           128.14,\n",
      "           41.97,\n",
      "           235.32,\n",
      "           -96.01,\n",
      "           272.51,\n",
      "           199.01,\n",
      "           97.08,\n",
      "           -256.51],\n",
      " 'Ron': [130.54,\n",
      "         -157.93,\n",
      "         -244.5,\n",
      "         220.69,\n",
      "         -233.84,\n",
      "         -191.2,\n",
      "         152.82,\n",
      "         -45.79,\n",
      "         -245.93,\n",
      "         -266.13,\n",
      "         204.23,\n",
      "         -24.15]}\n"
     ]
    }
   ],
   "source": []
  },
  {
   "cell_type": "code",
   "execution_count": 9,
   "id": "6eec90ea",
   "metadata": {},
   "outputs": [
    {
     "name": "stdout",
     "output_type": "stream",
     "text": [
      "{'Alessia': [40.58,\n",
      "             -293.12,\n",
      "             -190.02,\n",
      "             -215.15,\n",
      "             -80.47,\n",
      "             59.37,\n",
      "             273.64,\n",
      "             -269.07,\n",
      "             -294.81,\n",
      "             -88.03,\n",
      "             298.63,\n",
      "             192.28],\n",
      " 'Anita': [-29.96,\n",
      "           247.48,\n",
      "           265.02,\n",
      "           263.27,\n",
      "           117.51,\n",
      "           -169.77,\n",
      "           134.11,\n",
      "           109.42,\n",
      "           251.74,\n",
      "           66.1,\n",
      "           195.11,\n",
      "           91.51],\n",
      " 'Csaba': [264.41,\n",
      "           -176.32,\n",
      "           191.23,\n",
      "           50.53,\n",
      "           103.52,\n",
      "           -161.26,\n",
      "           23.14,\n",
      "           -168.76,\n",
      "           53.99,\n",
      "           -145.65,\n",
      "           173.88,\n",
      "           21.26],\n",
      " 'Mario': [184.48,\n",
      "           234.39,\n",
      "           -99.91,\n",
      "           178.31,\n",
      "           269.02,\n",
      "           -294.66,\n",
      "           -266.02,\n",
      "           267.77,\n",
      "           -27.44,\n",
      "           199.52,\n",
      "           195.41,\n",
      "           -18.55],\n",
      " 'Ron': [211.15,\n",
      "         282.63,\n",
      "         -238.74,\n",
      "         254.95,\n",
      "         284.13,\n",
      "         -113.89,\n",
      "         174.35,\n",
      "         230.5,\n",
      "         -116.88,\n",
      "         -129.05,\n",
      "         -235.9,\n",
      "         -86.32]}\n"
     ]
    }
   ],
   "source": []
  },
  {
   "cell_type": "markdown",
   "id": "6122b649",
   "metadata": {},
   "source": [
    "## Control Flow\n",
    "1. Verificare se nel mese di Gennaio Mario ha effettuato delle transazioni. nel caso in cui l'esito sia positivo stampare il seguente messaggio \"Mario ha effettuato spese a Gennaio\" altrimento stampare il seguente messaggio \"Mario non ha effettuato spese a Gennaio\"\n"
   ]
  },
  {
   "cell_type": "code",
   "execution_count": 10,
   "id": "ffa881ec",
   "metadata": {},
   "outputs": [
    {
     "name": "stdout",
     "output_type": "stream",
     "text": [
      "Mario ha effettuato spese a Gennaio\n"
     ]
    }
   ],
   "source": []
  },
  {
   "cell_type": "markdown",
   "id": "0f3701f7",
   "metadata": {},
   "source": [
    "2. Verificare se la somma delle transazioni di Alessia siano negative\n"
   ]
  },
  {
   "cell_type": "code",
   "execution_count": 11,
   "id": "c276772c",
   "metadata": {},
   "outputs": [
    {
     "name": "stdout",
     "output_type": "stream",
     "text": [
      "La somma delle transazioni di Alessia è negativa\n",
      "La somma delle transazioni di Alessia è negativa\n",
      "La somma delle transazioni di Alessia è negativa\n",
      "La somma delle transazioni di Alessia è negativa\n"
     ]
    }
   ],
   "source": []
  },
  {
   "cell_type": "markdown",
   "id": "4041dd1f",
   "metadata": {},
   "source": [
    "3. Stampare tutte le transazioni di Mario usando la dicitura \"Transazioni Mario <nome del mese>:<valore> €\" (e.g. per il mese di Aprile \"Transazioni Mario Aprile:3 €\"). [hint](https://docs.python.org/3.3/library/functions.html#zip)"
   ]
  },
  {
   "cell_type": "code",
   "execution_count": 12,
   "id": "6d1913a5",
   "metadata": {},
   "outputs": [
    {
     "name": "stdout",
     "output_type": "stream",
     "text": [
      "Transazioni Mario Gennaio: 184.48 €\n",
      "Transazioni Mario Febbraio: 234.39 €\n",
      "Transazioni Mario Marzo: -99.91 €\n",
      "Transazioni Mario Aprile: 178.31 €\n",
      "Transazioni Mario Maggio: 269.02 €\n",
      "Transazioni Mario Giugno: -294.66 €\n",
      "Transazioni Mario Luglio: -266.02 €\n",
      "Transazioni Mario Agosto: 267.77 €\n",
      "Transazioni Mario Settembre: -27.44 €\n",
      "Transazioni Mario Ottobre: 199.52 €\n",
      "Transazioni Mario Novembre: 195.41 €\n",
      "Transazioni Mario Dicembre: -18.55 €\n"
     ]
    }
   ],
   "source": []
  },
  {
   "cell_type": "code",
   "execution_count": 13,
   "id": "2346c799",
   "metadata": {},
   "outputs": [
    {
     "name": "stdout",
     "output_type": "stream",
     "text": [
      "Transazioni Mario Gennaio: 184.48 €\n",
      "Transazioni Mario Febbraio: 234.39 €\n",
      "Transazioni Mario Marzo: -99.91 €\n",
      "Transazioni Mario Aprile: 178.31 €\n",
      "Transazioni Mario Maggio: 269.02 €\n",
      "Transazioni Mario Giugno: -294.66 €\n",
      "Transazioni Mario Luglio: -266.02 €\n",
      "Transazioni Mario Agosto: 267.77 €\n",
      "Transazioni Mario Settembre: -27.44 €\n",
      "Transazioni Mario Ottobre: 199.52 €\n",
      "Transazioni Mario Novembre: 195.41 €\n",
      "Transazioni Mario Dicembre: -18.55 €\n"
     ]
    }
   ],
   "source": []
  },
  {
   "cell_type": "code",
   "execution_count": 14,
   "id": "2ef0668a",
   "metadata": {},
   "outputs": [
    {
     "name": "stdout",
     "output_type": "stream",
     "text": [
      "Transazioni Mario Gennaio: 184.48 €\n",
      "Transazioni Mario Febbraio: 234.39 €\n",
      "Transazioni Mario Marzo: -99.91 €\n",
      "Transazioni Mario Aprile: 178.31 €\n",
      "Transazioni Mario Maggio: 269.02 €\n",
      "Transazioni Mario Giugno: -294.66 €\n",
      "Transazioni Mario Luglio: -266.02 €\n",
      "Transazioni Mario Agosto: 267.77 €\n",
      "Transazioni Mario Settembre: -27.44 €\n",
      "Transazioni Mario Ottobre: 199.52 €\n",
      "Transazioni Mario Novembre: 195.41 €\n",
      "Transazioni Mario Dicembre: -18.55 €\n"
     ]
    }
   ],
   "source": []
  },
  {
   "cell_type": "markdown",
   "id": "f8d801a1",
   "metadata": {},
   "source": [
    "4. Ripetere quanto fatto con Mario anche con Alessia, ma stavolta stampando \"Mese con saldo negativo\" se l'importo è negativo."
   ]
  },
  {
   "cell_type": "code",
   "execution_count": 15,
   "id": "abd62c0c",
   "metadata": {},
   "outputs": [
    {
     "name": "stdout",
     "output_type": "stream",
     "text": [
      "Transazioni Alessia Gennaio: 40.58 €\n",
      "Mese negativo\n",
      "Mese negativo\n",
      "Mese negativo\n",
      "Mese negativo\n",
      "Transazioni Alessia Giugno: 59.37 €\n",
      "Transazioni Alessia Luglio: 273.64 €\n",
      "Mese negativo\n",
      "Mese negativo\n",
      "Mese negativo\n",
      "Transazioni Alessia Novembre: 298.63 €\n",
      "Transazioni Alessia Dicembre: 192.28 €\n"
     ]
    }
   ],
   "source": []
  },
  {
   "cell_type": "markdown",
   "id": "f6169523",
   "metadata": {},
   "source": [
    "## Funzioni\n",
    "\n",
    "1. Definire una funzione `get_transaction_sign` che restituisca il valore `True` se la transazione ha segno negativo e `False` se ha segno positivo."
   ]
  },
  {
   "cell_type": "code",
   "execution_count": 16,
   "id": "a1768bc0",
   "metadata": {},
   "outputs": [],
   "source": []
  },
  {
   "cell_type": "markdown",
   "id": "47f3ee75",
   "metadata": {},
   "source": [
    "2. Definire una funzione `get_transaction_sum` che riceva in input la lista delle transazioni e fornisca in output la somma delle transazioni. Verificare il risultato della funzione usando la lista delle transazioni di Alessia e confrontandolo con l'esercizio della sezione control flow."
   ]
  },
  {
   "cell_type": "code",
   "execution_count": 17,
   "id": "dfd617ed",
   "metadata": {},
   "outputs": [],
   "source": []
  },
  {
   "cell_type": "markdown",
   "id": "3d1f5a1f",
   "metadata": {},
   "source": [
    "3. Definire una funzione `get_overdraft_monthly_fees` che, dato un importo di scoperto, restituisca la commissione da pagare per quel dato mese."
   ]
  },
  {
   "cell_type": "code",
   "execution_count": 18,
   "id": "a9c6659d",
   "metadata": {},
   "outputs": [],
   "source": []
  },
  {
   "cell_type": "markdown",
   "id": "865bd037",
   "metadata": {},
   "source": [
    "## Classi\n",
    "\n",
    "1. Finora abbiamo considerato le varie caratteristiche del cliente in maniera separata. Ora creiamo una classe `Customer` che contenga tutte le informazioni pertinenti ad un dato cliente. La classe dovrà avere quindi gli attributi: `account_type` (\"Base\" o \"Premium\"), `has_overdraft_service`(`True` o `False`) ed il bilancio (un numero float) ed ovviamente un attributo `name` contente il nome del cliente. Dovremo poter inizializzare la classe per Mario così:\n",
    "\n",
    "    ```python\n",
    "    mario = Customer(\"Mario\", \"Base\", True, 1020.01)\n",
    "    ```"
   ]
  },
  {
   "cell_type": "code",
   "execution_count": 19,
   "id": "a538bc5c",
   "metadata": {},
   "outputs": [],
   "source": []
  },
  {
   "cell_type": "markdown",
   "id": "e54f61a4",
   "metadata": {},
   "source": [
    "2. Ridefiniamo la classe aggiungendo un metodo `get_fees`` che restituisca il costo del conto del cliente. Stampiamo il messaggio \"Commissioni mensili Mario (conto: <tipo di conto>): <importo>\"."
   ]
  },
  {
   "cell_type": "code",
   "execution_count": 20,
   "id": "c60c08e6",
   "metadata": {},
   "outputs": [
    {
     "data": {
      "text/plain": [
       "0.0"
      ]
     },
     "execution_count": 20,
     "metadata": {},
     "output_type": "execute_result"
    }
   ],
   "source": []
  },
  {
   "cell_type": "markdown",
   "id": "e88700d5",
   "metadata": {},
   "source": [
    "3. Aggiungiamo un metodo `upgrade`che modifica il tipo di conto facendolo passare a Premium. Cambiamo il tipo di conto di Mario e invochiamo nuovamente il metodo `get_fees`."
   ]
  },
  {
   "cell_type": "code",
   "execution_count": 21,
   "id": "b3e26604",
   "metadata": {},
   "outputs": [
    {
     "name": "stdout",
     "output_type": "stream",
     "text": [
      "Commissioni mensili Mario (conto: Base): 0\n",
      "Commissioni mensili Mario (conto: Premium): 4.0\n"
     ]
    }
   ],
   "source": []
  },
  {
   "cell_type": "markdown",
   "id": "70fb1dc2",
   "metadata": {},
   "source": [
    "## Esercizio Finale\n",
    "Completiamo il puzzle\n",
    "1. Calcolare il saldo al 31/12/23 per ciascun cliente `outstanding_eoy_customer`."
   ]
  },
  {
   "cell_type": "code",
   "execution_count": 22,
   "id": "ec5f1bf4",
   "metadata": {},
   "outputs": [
    {
     "name": "stdout",
     "output_type": "stream",
     "text": [
      "{'Alessia': -445.2600000000001,\n",
      " 'Anita': 1573.6599999999999,\n",
      " 'Csaba': 1249.98,\n",
      " 'Mario': 1842.33,\n",
      " 'Ron': 516.93}\n"
     ]
    }
   ],
   "source": []
  },
  {
   "cell_type": "markdown",
   "id": "85284b1c",
   "metadata": {},
   "source": [
    "2. Mostrare a video i nomi dei clienti che hanno utilizzato il servizio di scoperto e i mesi in cui lo hanno fatto."
   ]
  },
  {
   "cell_type": "code",
   "execution_count": 23,
   "id": "7130b5b9",
   "metadata": {},
   "outputs": [
    {
     "name": "stdout",
     "output_type": "stream",
     "text": [
      "Analisi del cliente Mario\n",
      "Analisi del mese Gennaio per il cliente Mario.\n",
      "Analisi del mese Febbraio per il cliente Mario.\n",
      "Analisi del mese Marzo per il cliente Mario.\n",
      "Analisi del mese Aprile per il cliente Mario.\n",
      "Analisi del mese Maggio per il cliente Mario.\n",
      "Analisi del mese Giugno per il cliente Mario.\n",
      "Analisi del mese Luglio per il cliente Mario.\n",
      "Analisi del mese Agosto per il cliente Mario.\n",
      "Analisi del mese Settembre per il cliente Mario.\n",
      "Analisi del mese Ottobre per il cliente Mario.\n",
      "Analisi del mese Novembre per il cliente Mario.\n",
      "Analisi del mese Dicembre per il cliente Mario.\n",
      "Analisi del cliente Alessia\n",
      "Analisi del mese Gennaio per il cliente Alessia.\n",
      "Analisi del mese Febbraio per il cliente Alessia.\n",
      "Il cliente Alessia ha un saldo di -131.63 nel mese di Febbraio.\n",
      "Analisi del mese Marzo per il cliente Alessia.\n",
      "Il cliente Alessia ha un saldo di -321.65 nel mese di Marzo.\n",
      "Analisi del mese Aprile per il cliente Alessia.\n",
      "Il cliente Alessia ha un saldo di -536.8 nel mese di Aprile.\n",
      "Analisi del mese Maggio per il cliente Alessia.\n",
      "Il cliente Alessia ha un saldo di -617.27 nel mese di Maggio.\n",
      "Analisi del mese Giugno per il cliente Alessia.\n",
      "Il cliente Alessia ha un saldo di -557.9 nel mese di Giugno.\n",
      "Analisi del mese Luglio per il cliente Alessia.\n",
      "Il cliente Alessia ha un saldo di -284.26 nel mese di Luglio.\n",
      "Analisi del mese Agosto per il cliente Alessia.\n",
      "Il cliente Alessia ha un saldo di -553.3299999999999 nel mese di Agosto.\n",
      "Analisi del mese Settembre per il cliente Alessia.\n",
      "Il cliente Alessia ha un saldo di -848.1399999999999 nel mese di Settembre.\n",
      "Analisi del mese Ottobre per il cliente Alessia.\n",
      "Il cliente Alessia ha un saldo di -936.1699999999998 nel mese di Ottobre.\n",
      "Analisi del mese Novembre per il cliente Alessia.\n",
      "Il cliente Alessia ha un saldo di -637.5399999999998 nel mese di Novembre.\n",
      "Analisi del mese Dicembre per il cliente Alessia.\n",
      "Il cliente Alessia ha un saldo di -445.2599999999999 nel mese di Dicembre.\n",
      "Analisi del cliente Anita\n",
      "Il cliente Anita non ha attivo il servizio di scoperto.\n",
      "Analisi del cliente Csaba\n",
      "Analisi del mese Gennaio per il cliente Csaba.\n",
      "Analisi del mese Febbraio per il cliente Csaba.\n",
      "Analisi del mese Marzo per il cliente Csaba.\n",
      "Analisi del mese Aprile per il cliente Csaba.\n",
      "Analisi del mese Maggio per il cliente Csaba.\n",
      "Analisi del mese Giugno per il cliente Csaba.\n",
      "Analisi del mese Luglio per il cliente Csaba.\n",
      "Analisi del mese Agosto per il cliente Csaba.\n",
      "Analisi del mese Settembre per il cliente Csaba.\n",
      "Analisi del mese Ottobre per il cliente Csaba.\n",
      "Analisi del mese Novembre per il cliente Csaba.\n",
      "Analisi del mese Dicembre per il cliente Csaba.\n",
      "Analisi del cliente Ron\n",
      "Analisi del mese Gennaio per il cliente Ron.\n",
      "Analisi del mese Febbraio per il cliente Ron.\n",
      "Analisi del mese Marzo per il cliente Ron.\n",
      "Analisi del mese Aprile per il cliente Ron.\n",
      "Analisi del mese Maggio per il cliente Ron.\n",
      "Analisi del mese Giugno per il cliente Ron.\n",
      "Analisi del mese Luglio per il cliente Ron.\n",
      "Analisi del mese Agosto per il cliente Ron.\n",
      "Analisi del mese Settembre per il cliente Ron.\n",
      "Analisi del mese Ottobre per il cliente Ron.\n",
      "Analisi del mese Novembre per il cliente Ron.\n",
      "Analisi del mese Dicembre per il cliente Ron.\n",
      "{'Alessia': ['Febbraio',\n",
      "             'Marzo',\n",
      "             'Aprile',\n",
      "             'Maggio',\n",
      "             'Giugno',\n",
      "             'Luglio',\n",
      "             'Agosto',\n",
      "             'Settembre',\n",
      "             'Ottobre',\n",
      "             'Novembre',\n",
      "             'Dicembre'],\n",
      " 'Anita': [],\n",
      " 'Csaba': [],\n",
      " 'Mario': [],\n",
      " 'Ron': []}\n",
      "{'Alessia': ['Febbraio',\n",
      "             'Marzo',\n",
      "             'Aprile',\n",
      "             'Maggio',\n",
      "             'Giugno',\n",
      "             'Luglio',\n",
      "             'Agosto',\n",
      "             'Settembre',\n",
      "             'Ottobre',\n",
      "             'Novembre',\n",
      "             'Dicembre'],\n",
      " 'Anita': [],\n",
      " 'Csaba': [],\n",
      " 'Mario': [],\n",
      " 'Ron': []}\n"
     ]
    }
   ],
   "source": []
  },
  {
   "cell_type": "markdown",
   "id": "e54fcb82",
   "metadata": {},
   "source": [
    "3. Calcolare i ricavi totali per cliente `tot_rev_on_customer` come la somma di tutte le commissioni applicate per il conto e per gli scoperti."
   ]
  },
  {
   "cell_type": "code",
   "execution_count": 24,
   "id": "f4f147b8",
   "metadata": {},
   "outputs": [
    {
     "name": "stdout",
     "output_type": "stream",
     "text": [
      "{'Alessia': 11, 'Anita': None, 'Csaba': 0, 'Mario': 0, 'Ron': 0}\n"
     ]
    }
   ],
   "source": []
  },
  {
   "cell_type": "markdown",
   "id": "827303d5",
   "metadata": {},
   "source": [
    "4. Calcolare i ricavi complessivi della banca `tot_rev_bank`."
   ]
  },
  {
   "cell_type": "code",
   "execution_count": 25,
   "id": "ec4e1ba0",
   "metadata": {},
   "outputs": [
    {
     "name": "stdout",
     "output_type": "stream",
     "text": [
      "Ricavi totali: 11\n"
     ]
    }
   ],
   "source": []
  }
 ],
 "metadata": {
  "kernelspec": {
   "display_name": "Python 3 (ipykernel)",
   "language": "python",
   "name": "python3"
  },
  "language_info": {
   "codemirror_mode": {
    "name": "ipython",
    "version": 3
   },
   "file_extension": ".py",
   "mimetype": "text/x-python",
   "name": "python",
   "nbconvert_exporter": "python",
   "pygments_lexer": "ipython3",
   "version": "3.12.2"
  }
 },
 "nbformat": 4,
 "nbformat_minor": 5
}
