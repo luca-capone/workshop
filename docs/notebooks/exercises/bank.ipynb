{
 "cells": [
  {
   "cell_type": "markdown",
   "id": "4c2a3adb",
   "metadata": {},
   "source": [
    "# Esercizio\n",
    "\n",
    "## Assunzioni\n",
    "La \"STEM Bank\" ha 5 clienti:\n",
    "- Mario.\n",
    "- Alessia.\n",
    "- Anita.\n",
    "- Csaba.\n",
    "- Ron.\n",
    "\n",
    "La banca offre due tipi di conti correnti:\n",
    "- Base: gratuito.\n",
    "- Premium: costo 4 € al mese.\n",
    "\n",
    "La banca offre anche l'attivazione di servizio di scoperto.\n",
    "La copertura massima dello scoperto è:\n",
    "- 3000 € per i conti Base.\n",
    "- 12000 € per i conti Premium.\n",
    "\n",
    "Il costo dello scoperto è pari a:\n",
    "- 1 € fino a 1500 €.\n",
    "- 3.5 € fino a 3000 €.\n",
    "- 6 € fino a 5000 €.\n",
    "- 6 € + 0.05% della somma eccedente i 5000 € per gli importi sopra i 5000 €.\n",
    "\n",
    "Di seguito è presente una tabella in cui sono mostrate sinteticamente le info descritte in precedenza e gli incassi (+) e pagamenti (-) effettuati da ciascun cliente durante l'anno."
   ]
  },
  {
   "cell_type": "markdown",
   "id": "1ffc1bab",
   "metadata": {},
   "source": [
    "|                      | Mario    | Alessia  | Anita    | Csaba    | Ron      |\n",
    "|:---------------------|---------:|---------:|---------:|---------:|---------:|\n",
    "| *Tipo Conto Corrente*       | Base    | Premium  | Base    | Base    | Base    |\n",
    "| *Servizio Scoperto*      | Yes      | Yes      |  No      | Yes      |  Yes     |\n",
    "| *Saldo al 01/01/23*| 1020.01  | 120.91   | -32.12   | 1020.01  |    0     |\n",
    "| *Gennaio*            | + 15     |   0      | + 15.30  |    0     |    0     |\n",
    "| *Febbraio*           |    0     | + 1      |    0     |   1      |    0     |\n",
    "| *Marzo*              | + 10     |-120      | + 10.12  | - 120    |    0     |\n",
    "| *Aprile*              |    0     | + 3      |    0     |    0     |    0     |\n",
    "| *Maggio*                |    0     |    0     |    0     |    0     |    0     |\n",
    "| *Giugno*               | - 12     |    0     |    0     |    0     |    0     |\n",
    "| *Luglio*               |    0     |    0     |    0     |    0     | -230.00  |\n",
    "| *Agosto*             |    0     |    0     |    0     |    0     |    0     |\n",
    "| *Settembre*          |    0     |    0     |    0     |    0     |    0     |\n",
    "| *Ottobre*            | - 54     |    0     | -54.21   |    0     |    0     |\n",
    "| *Novembre*           |    0     |    0     |    0     |    0     |    0     |\n",
    "| *Dicembre*           | -102     | -5       | -3       |    0     |    -10000     |\n",
    "\n"
   ]
  },
  {
   "cell_type": "markdown",
   "id": "7d5c656a",
   "metadata": {},
   "source": [
    "## Commenti, Variabili e Costanti\n",
    "1. Assegnare il nome della banca che offre il conto alla variabile `bank_name`. Stampare un messaggio di benvenuto usando le f-string."
   ]
  },
  {
   "cell_type": "code",
   "execution_count": null,
   "id": "6f871751",
   "metadata": {},
   "outputs": [],
   "source": []
  },
  {
   "cell_type": "markdown",
   "id": "ceb8d7b9",
   "metadata": {},
   "source": [
    "2. Assegnare la commissione mensile del conto corrente alla variabile `premium_account_fee_monthly`."
   ]
  },
  {
   "cell_type": "code",
   "execution_count": null,
   "id": "c462cee5",
   "metadata": {},
   "outputs": [],
   "source": []
  },
  {
   "cell_type": "markdown",
   "id": "5d7c117d",
   "metadata": {},
   "source": [
    "3. Verificare attraverso gli operatori di confronto che la commissione annuale sia pari a 48 €. Stampare un messaggio esplicativo."
   ]
  },
  {
   "cell_type": "code",
   "execution_count": null,
   "id": "22086c0a",
   "metadata": {},
   "outputs": [],
   "source": []
  },
  {
   "cell_type": "markdown",
   "id": "d6ccf341",
   "metadata": {},
   "source": [
    "## Collezioni\n",
    "1. Definire un dizionario `customer_account_type` le cui chiavi sono i clienti e i valori contenengono la tipologia di conto corrente."
   ]
  },
  {
   "cell_type": "code",
   "execution_count": null,
   "id": "103f2c13",
   "metadata": {},
   "outputs": [],
   "source": []
  },
  {
   "cell_type": "markdown",
   "id": "9a2a85a5",
   "metadata": {},
   "source": [
    "2. Definire un dizionario `customer_has_overdraft` le cui chiavi sono i clienti e i valori (Bool) contenengono `True` se il prodotto `Overdraft` è attivo e `False` se non è attivo, sfruttando il fatto che le chiavi di questo dizionario devono essere le stesse di quelle del dizionario precedente."
   ]
  },
  {
   "cell_type": "code",
   "execution_count": null,
   "id": "69b981ba",
   "metadata": {},
   "outputs": [],
   "source": []
  },
  {
   "cell_type": "markdown",
   "id": "691cb91e",
   "metadata": {},
   "source": [
    "3. Definire un dizionario `customer_balance_1y` le cui chiavi sono i clienti e i valori contenengono il saldo iniziale del conto del cliente."
   ]
  },
  {
   "cell_type": "code",
   "execution_count": null,
   "id": "0afd5b36",
   "metadata": {},
   "outputs": [],
   "source": []
  },
  {
   "cell_type": "markdown",
   "id": "774da249",
   "metadata": {},
   "source": [
    "4. Per ogni cliente generare una lista di 12 numeri float tra -1'000.00 e 1'000.00 dove l'elemento di posto i rappresenta il saldo delle transazioni effettuate nell'i+1-esimo mese dell'anno. Mettiamo le liste in un dizionario e poi stampiamolo. Per eseguire questo esercizio avremo bisogno della funzione `randint` dal modulo `random`. Andiamo a leggerne la documentazione [qui](https://docs.python.org/3/library/random.html#random.randint) per capire come funziona.\n"
   ]
  },
  {
   "cell_type": "code",
   "execution_count": null,
   "id": "52ded9a1",
   "metadata": {},
   "outputs": [],
   "source": []
  },
  {
   "cell_type": "code",
   "execution_count": null,
   "id": "fde10318",
   "metadata": {},
   "outputs": [],
   "source": []
  },
  {
   "cell_type": "code",
   "execution_count": null,
   "id": "6eec90ea",
   "metadata": {},
   "outputs": [],
   "source": []
  },
  {
   "cell_type": "markdown",
   "id": "dd84c594",
   "metadata": {},
   "source": [
    "\n",
    "- Recuperare le chiavi dei dizionari precedentemente creati e inserirle all'interno delle seguenti liste: `cust_current_account_type_dict_key`, `cust_has_overdraft_dict_key`, `cust_first_of_year_balance_dict_key`, `cust_transactions_list_dict_key`.\n"
   ]
  },
  {
   "cell_type": "markdown",
   "id": "6122b649",
   "metadata": {},
   "source": [
    "## Control Flow\n",
    "1. Verificare se nel mese di Gennaio Mario ha effettuato delle transazioni. nel caso in cui l'esito sia positivo stampare il seguente messaggio \"Mario ha effettuato spese a Gennaio\" altrimento stampare il seguente messaggio \"Mario non ha effettuato spese a Gennaio\"\n"
   ]
  },
  {
   "cell_type": "code",
   "execution_count": null,
   "id": "ffa881ec",
   "metadata": {},
   "outputs": [],
   "source": []
  },
  {
   "cell_type": "markdown",
   "id": "0f3701f7",
   "metadata": {},
   "source": [
    "2. Verificare se la somma delle transazioni di Alessia siano negative\n"
   ]
  },
  {
   "cell_type": "code",
   "execution_count": null,
   "id": "c276772c",
   "metadata": {},
   "outputs": [],
   "source": []
  },
  {
   "cell_type": "markdown",
   "id": "4041dd1f",
   "metadata": {},
   "source": [
    "3. Stampare tutte le transazioni di Mario usando la dicitura \"Transazioni Mario <nome del mese>:<valore> €\" (e.g. per il mese di Aprile \"Transazioni Mario Aprile:3 €\"). [hint](https://docs.python.org/3.3/library/functions.html#zip)"
   ]
  },
  {
   "cell_type": "code",
   "execution_count": null,
   "id": "6d1913a5",
   "metadata": {},
   "outputs": [],
   "source": []
  },
  {
   "cell_type": "code",
   "execution_count": null,
   "id": "2346c799",
   "metadata": {},
   "outputs": [],
   "source": []
  },
  {
   "cell_type": "code",
   "execution_count": null,
   "id": "2ef0668a",
   "metadata": {},
   "outputs": [],
   "source": []
  },
  {
   "cell_type": "markdown",
   "id": "f8d801a1",
   "metadata": {},
   "source": [
    "4. Ripetere quanto fatto con Mario anche con Alessia, ma stavolta stampando \"Mese con saldo negativo\" se l'importo è negativo."
   ]
  },
  {
   "cell_type": "code",
   "execution_count": null,
   "id": "abd62c0c",
   "metadata": {},
   "outputs": [],
   "source": []
  },
  {
   "cell_type": "markdown",
   "id": "f6169523",
   "metadata": {},
   "source": [
    "## Funzioni\n",
    "\n",
    "1. Definire una funzione `get_transaction_sign` che restituisca il valore `True` se la transazione ha segno negativo e `False` se ha segno positivo."
   ]
  },
  {
   "cell_type": "code",
   "execution_count": null,
   "id": "a1768bc0",
   "metadata": {},
   "outputs": [],
   "source": []
  },
  {
   "cell_type": "markdown",
   "id": "47f3ee75",
   "metadata": {},
   "source": [
    "2. Definire una funzione `get_transaction_sum` che riceva in input la lista delle transazioni e fornisca in output la somma delle transazioni. Verificare il risultato della funzione usando la lista delle transazioni di Alessia e confrontandolo con l'esercizio della sezione control flow."
   ]
  },
  {
   "cell_type": "code",
   "execution_count": null,
   "id": "dfd617ed",
   "metadata": {},
   "outputs": [],
   "source": []
  },
  {
   "cell_type": "markdown",
   "id": "3d1f5a1f",
   "metadata": {},
   "source": [
    "3. Definire una funzione `get_overdraft_monthly_fees` che, dato un importo di scoperto, restituisca la commissione da pagare per quel dato mese."
   ]
  },
  {
   "cell_type": "code",
   "execution_count": null,
   "id": "a9c6659d",
   "metadata": {},
   "outputs": [],
   "source": []
  },
  {
   "cell_type": "markdown",
   "id": "865bd037",
   "metadata": {},
   "source": [
    "## Classi\n",
    "\n",
    "1. Finora abbiamo considerato le varie caratteristiche del cliente in maniera separata. Ora creiamo una classe `Customer` che contenga tutte le informazioni pertinenti ad un dato cliente. La classe dovrà avere quindi gli attributi: `account_type` (\"Base\" o \"Premium\"), `has_overdraft_service`(`True` o `False`) ed il bilancio (un numero float) ed ovviamente un attributo `name` contente il nome del cliente. Dovremo poter inizializzare la classe per Mario così:\n",
    "\n",
    "    ```python\n",
    "    mario = Customer(\"Mario\", \"Base\", True, 1020.01)\n",
    "    ```"
   ]
  },
  {
   "cell_type": "code",
   "execution_count": null,
   "id": "a538bc5c",
   "metadata": {},
   "outputs": [],
   "source": []
  },
  {
   "cell_type": "markdown",
   "id": "e54f61a4",
   "metadata": {},
   "source": [
    "2. Ridefiniamo la classe aggiungendo un metodo `get_fees`` che restituisca il costo del conto del cliente. Stampiamo il messaggio \"Commissioni mensili Mario (conto: <tipo di conto>): <importo>\"."
   ]
  },
  {
   "cell_type": "code",
   "execution_count": null,
   "id": "c60c08e6",
   "metadata": {},
   "outputs": [],
   "source": []
  },
  {
   "cell_type": "markdown",
   "id": "e88700d5",
   "metadata": {},
   "source": [
    "3. Aggiungiamo un metodo `upgrade`che modifica il tipo di conto facendolo passare a Premium. Cambiamo il tipo di conto di Mario e invochiamo nuovamente il metodo `get_fees`."
   ]
  },
  {
   "cell_type": "code",
   "execution_count": null,
   "id": "b3e26604",
   "metadata": {},
   "outputs": [],
   "source": []
  },
  {
   "cell_type": "markdown",
   "id": "70fb1dc2",
   "metadata": {},
   "source": [
    "## Esercizio Finale\n",
    "Completiamo il puzzle\n",
    "1. Calcolare il saldo al 31/12/23 per ciascun cliente `outstanding_eoy_customer`.\n",
    "2. Mostrare a video i nomi dei clienti che hanno utilizzato il servizio di scoperto e i mesi in cui lo hanno fatto.\n",
    "3. Calcolare i ricavi totali per cliente `tot_rev_on_customer` come la somma di tutte le commissioni applicate per il conto e per gli scoperti.\n",
    "4. Calcolare i ricavi complessivi della banca `tot_rev_bank`.\n",
    "5. Calcolare i ricavi totali per cliente rapportati al loro saldo al 31/12/23 `tot_rev_on_customer_over_eoy_outstanding`.\n"
   ]
  },
  {
   "cell_type": "code",
   "execution_count": null,
   "id": "e9bce6f0",
   "metadata": {},
   "outputs": [],
   "source": []
  }
 ],
 "metadata": {
  "kernelspec": {
   "display_name": "Python 3 (ipykernel)",
   "language": "python",
   "name": "python3"
  },
  "language_info": {
   "codemirror_mode": {
    "name": "ipython",
    "version": 3
   },
   "file_extension": ".py",
   "mimetype": "text/x-python",
   "name": "python",
   "nbconvert_exporter": "python",
   "pygments_lexer": "ipython3",
   "version": "3.12.2"
  }
 },
 "nbformat": 4,
 "nbformat_minor": 5
}
