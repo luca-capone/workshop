{
 "cells": [
  {
   "cell_type": "markdown",
   "id": "4c2a3adb",
   "metadata": {},
   "source": [
    "# Esercizio\n",
    "La \"STEM Bank\" ha 5 clienti:\n",
    "- Mario\n",
    "- Alessia\n",
    "- Anita\n",
    "- Csaba\n",
    "- Ron\n",
    "\n",
    "La banca offre due tipi di conti correnti:\n",
    "- Base: gratuito\n",
    "- Premium: costo 4 euro al mese\n",
    "\n",
    "La banca offre anche l'attivazione di servizio di scoperto.\n",
    "La copertura massima dello scoperto è:\n",
    "- 3000 Euro per i conti Base\n",
    "- 12000 Euro per i conti Premium\n",
    "\n",
    "Il costo dello scoperto è pari a:\n",
    "- 1 Euro for a limit of 1500 Euro\n",
    "- 3.5 Euro for a limit of 3000 Euro\n",
    "- 6 Euro for a limit of 5000 Euro\n",
    "- 6 Euro + 0.05% della somma eccedente i 5000 per gli importi sopra i 5000\n",
    "\n",
    "Di seguito è presente una tabella in cui sono mostrate sinteticamente le info descritte in precedenza e gli incassi (+) e pagamenti (-) effettuati da ciascun cliente durante l'anno."
   ]
  },
  {
   "cell_type": "markdown",
   "id": "1ffc1bab",
   "metadata": {},
   "source": [
    "|                      | Mario    | Alessia  | Anita    | Csaba    | Ron      |\n",
    "|:---------------------|---------:|---------:|---------:|---------:|---------:|\n",
    "| *Tipo Conto Corrente*       | Base    | Premium  | Base    | Base    | Base    |\n",
    "| *Servizio Scoperto*      | Yes      | Yes      |  No      | Yes      |  Yes     |\n",
    "| *Saldo al 01/01/23*| 1020.01  | 120.91   | -32.12   | 1020.01  |    0     |\n",
    "| *Gennaio*            | + 15     |   0      | + 15.30  |    0     |    0     |\n",
    "| *Febbraio*           |    0     | + 1      |    0     |   1      |    0     |\n",
    "| *Marzo*              | + 10     |-120      | + 10.12  | - 120    |    0     |\n",
    "| *Aprile*              |    0     | + 3      |    0     |    0     |    0     |\n",
    "| *Maggio*                |    0     |    0     |    0     |    0     |    0     |\n",
    "| *Giugno*               | - 12     |    0     |    0     |    0     |    0     |\n",
    "| *Luglio*               |    0     |    0     |    0     |    0     | -230.00  |\n",
    "| *Agosto*             |    0     |    0     |    0     |    0     |    0     |\n",
    "| *Settembre*          |    0     |    0     |    0     |    0     |    0     |\n",
    "| *Ottobre*            | - 54     |    0     | -54.21   |    0     |    0     |\n",
    "| *Novembre*           |    0     |    0     |    0     |    0     |    0     |\n",
    "| *Dicembre*           | -102     | -5       | -3       |    0     |    -10000     |\n",
    "\n"
   ]
  },
  {
   "cell_type": "code",
   "execution_count": null,
   "id": "75fbdb65",
   "metadata": {},
   "outputs": [],
   "source": []
  },
  {
   "cell_type": "markdown",
   "id": "7d5c656a",
   "metadata": {},
   "source": [
    "## Commenti, Variabili e Costanti\n",
    "- Assegnare la commissione mensile del conto corrente alla variabile `monthly_fee_curr_acc_prem`.\n",
    "- Assegnare il nome della banca che offre il conto alla variabile `bank_name`.\n",
    "- Verificare attraverso gli operatori di confronto che la commissione annuale sia pari a 48 Euro.\n",
    "- Usando la variabile precedentemente creata `bank_name` e la funzione di concatenazione di due variabili, creare la frase \"Benvenuti in `bank_name`\"."
   ]
  },
  {
   "cell_type": "code",
   "execution_count": null,
   "id": "22086c0a",
   "metadata": {},
   "outputs": [],
   "source": []
  },
  {
   "cell_type": "markdown",
   "id": "d6ccf341",
   "metadata": {},
   "source": [
    "## Collezioni\n",
    "- Definire un dizionario `cust_current_account_type_dict` le cui chiavi sono i clienti e i valori contenengono la tipologia di conto corrente.\n",
    "- Definire un dizionario `cust_has_overdraft_dict` le cui chiavi sono i clienti e i valori (Bool) contenengono `True` se il prodotto `Overdraft` è `attivo` e `False` se `non` è `attivo`.\n",
    "- Definire un dizionario `cust_first_of_year_balance_dict` le cui chiavi sono i clienti e i valori contenengono il saldo iniziale del conto del cliente.\n",
    "\n",
    "- Per ogni cliente definire una lista `cust_[nome_cliente]_transactions_list` di 12 elementi. Valorizzare ciascun elemento della lista con il valore corrispondente all'i-esimo mese.\n",
    "  (Ad esempio: `cust_mario_transactions_list`, `cust_alessia_transactions_list`, `cust_anita_transactions_list`, `cust_csaba_transactions_list`, `cust_ron_transactions_list`).\n",
    "\n",
    "- Definire un dizionario `cust_transactions_list_dict` di liste le cui chiavi sono i clienti e i valori contenengono le liste precedentemente definite.\n",
    "\n",
    "- Recuperare le chiavi dei dizionari precedentemente creati e inserirle all'interno delle seguenti liste: `cust_current_account_type_dict_key`, `cust_has_overdraft_dict_key`, `cust_first_of_year_balance_dict_key`, `cust_transactions_list_dict_key`.\n"
   ]
  },
  {
   "cell_type": "code",
   "execution_count": null,
   "id": "3eeefc0b",
   "metadata": {},
   "outputs": [],
   "source": []
  },
  {
   "cell_type": "markdown",
   "id": "6122b649",
   "metadata": {},
   "source": [
    "## Control Flow\n",
    "- Verificare se nel mese di Gennaio Mario ha effettuato delle transazioni.\n",
    "- Verificare che la somma delle transazioni di Alessia siano negative.\n",
    "- Stampare tutte le transazioni di Mario usando la dicitura \"Transazioni del [mese in formato numerico]° mese: [Valore transazione] Euro\" (ad esempio, per il mese di Aprile \"Transazioni del 4° mese: 3 Euro\").\n",
    "- Stampare tutte le transazioni con segno negativo di Alessia usando la dicitura \"Transazioni negative del [mese in formato numerico]° mese: [Valore transazione] Euro\" (ad esempio, per il mese di Aprile \"Transazioni del 4° mese: -3 Euro\").\n",
    "\n",
    "**Ricorda:**\n",
    "- _Gli indici delle liste partono da 0._\n",
    "- Potresti riutilizzare qualcosa delle sezioni di esercizi precedenti per la stampa della frase.\n",
    "- Potresti riutilizzare qualcosa degli esercizi precedenti per la stampa della frase.\n"
   ]
  },
  {
   "cell_type": "code",
   "execution_count": null,
   "id": "abd62c0c",
   "metadata": {},
   "outputs": [],
   "source": []
  },
  {
   "cell_type": "markdown",
   "id": "f6169523",
   "metadata": {},
   "source": [
    "## Funzioni\n",
    "\n",
    "- Definire una funzione `get_transaction_sign` che restituisca il valore `True` se la transazione ha segno negativo e `False` se ha segno positivo.\n",
    "- Definire una funzione `get_transaction_sum` che riceva in input la lista delle transazioni e fornisca in output la somma delle transazioni. Verificare il risultato della funzione usando la lista delle transazioni di Alessia e confrontandolo con l'esercizio della sezione control flow.\n",
    "- Definire una funzione `get_overdraft_monthly_fees` che, dato un importo di scoperto, restituisca la commissione da pagare per quel dato mese.\n",
    "- Riutilizzando il codice della funzione `get_transaction_sign`, definire una nuova funzione `get_monthly_balance_sign` che, data una lista di transazioni, restituisca una lista i cui elementi siano valorizzati a `True` se negativi e `False` se positivi.\n"
   ]
  },
  {
   "cell_type": "code",
   "execution_count": null,
   "id": "679ef074",
   "metadata": {},
   "outputs": [],
   "source": []
  },
  {
   "cell_type": "markdown",
   "id": "dddc5165",
   "metadata": {},
   "source": [
    "## Correggi l'errore\n",
    "Correggere il seguente codice affinchè il valore finale sia 20."
   ]
  },
  {
   "cell_type": "code",
   "execution_count": 5,
   "id": "4b04c5ab",
   "metadata": {},
   "outputs": [
    {
     "name": "stdout",
     "output_type": "stream",
     "text": [
      "23\n"
     ]
    }
   ],
   "source": [
    "a = 2\n",
    "b = 18\n",
    "c = a + b\n",
    "c = 23\n",
    "print(c)"
   ]
  },
  {
   "cell_type": "markdown",
   "id": "a105dea0",
   "metadata": {},
   "source": [
    "Correggi la seguente funzione affinchè il valore finale sia 24"
   ]
  },
  {
   "cell_type": "code",
   "execution_count": 14,
   "id": "570df11d",
   "metadata": {},
   "outputs": [
    {
     "ename": "NameError",
     "evalue": "name 'sumlist' is not defined",
     "output_type": "error",
     "traceback": [
      "\u001b[1;31m---------------------------------------------------------------------------\u001b[0m",
      "\u001b[1;31mNameError\u001b[0m                                 Traceback (most recent call last)",
      "Cell \u001b[1;32mIn[14], line 8\u001b[0m\n\u001b[0;32m      5\u001b[0m         valueSum\u001b[38;5;241m=\u001b[39mvalueSum\u001b[38;5;241m+\u001b[39melement\n\u001b[0;32m      6\u001b[0m     \u001b[38;5;28;01mreturn\u001b[39;00m valueSum\n\u001b[1;32m----> 8\u001b[0m sumlist([\u001b[38;5;241m4\u001b[39m,\u001b[38;5;241m5\u001b[39m,\u001b[38;5;241m7\u001b[39m,\u001b[38;5;241m8\u001b[39m])\n",
      "\u001b[1;31mNameError\u001b[0m: name 'sumlist' is not defined"
     ]
    }
   ],
   "source": [
    "def sum_list(input_list):\n",
    "    \"\"\"Somma gli elementi di una lista e ne restituisce i risultati.\"\"\"\n",
    "    for element in input_list:\n",
    "        value_sum = 0\n",
    "        value_sum = value_sum + element\n",
    "    return value_sum\n",
    "\n",
    "\n",
    "sum_list([4, 5, 7, 8])"
   ]
  },
  {
   "cell_type": "code",
   "execution_count": null,
   "id": "753af053",
   "metadata": {},
   "outputs": [],
   "source": []
  },
  {
   "cell_type": "markdown",
   "id": "70fb1dc2",
   "metadata": {},
   "source": [
    "## Esercizio Finale\n",
    "Completiamo il puzzle\n",
    "1. Calcolare il saldo al 31/12/23 per ciascun cliente `outstanding_eoy_customer`.\n",
    "2. Mostrare a video i nomi dei clienti che hanno utilizzato il servizio di scoperto e i mesi in cui lo hanno fatto.\n",
    "3. Calcolare i ricavi totali per cliente `tot_rev_on_customer` come la somma di tutte le commissioni applicate per il conto e per gli scoperti.\n",
    "4. Calcolare i ricavi complessivi della banca `tot_rev_bank`.\n",
    "5. Calcolare i ricavi totali per cliente rapportati al loro saldo al 31/12/23 `tot_rev_on_customer_over_eoy_outstanding`.\n"
   ]
  },
  {
   "cell_type": "code",
   "execution_count": null,
   "id": "e9bce6f0",
   "metadata": {},
   "outputs": [],
   "source": []
  },
  {
   "cell_type": "markdown",
   "id": "9bc18cc1",
   "metadata": {},
   "source": [
    "## Esercizio Bonus\n",
    "Alziamo l'asticella\n",
    "\n",
    "- Definire un dataframe `df_account_info_per_customer` le cui righe rappresentino i clienti della banca e le colonne rappresentino i nomi dei clienti `customer_name`, il tipo di conto corrente `current_account_type`, lo stato di attivazione del servizio di scoperto `has_overdraft` e il saldo al 01/01/2023 `first_of_year_balance`.\n",
    "- Definire un dataframe `df_transaction_list` le cui righe rappresentino i mesi dell'anno e le colonne rappresentino le movimentazioni dei clienti della banca `transaction_mario`, `transaction_alessia`, `transaction_anita`, `transaction_csaba`, `transaction_ron`.\n",
    "- Copiare il dataframe `df_transaction_list` e denominarlo `df_monthly_balance_and_transaction_list`.\n",
    "- Aggiungere al dataframe `df_monthly_balance_and_transaction_list` una nuova colonna `monthly_balance` calcolata come saldo al mese precedente più transazione del mese in corso.\n",
    "- Aggiungere al dataframe `df_monthly_balance_and_transaction_list` una nuova colonna `overdraft_monthly_fees` calcolata applicando la funzione `get_overdraft_monthly_fees` alla colonna `monthly_balance`.\n",
    "- Ricalcolare i punti 1, 3, 4, 5 dell'esercizio finale usando i DataFrame.\n"
   ]
  },
  {
   "cell_type": "code",
   "execution_count": null,
   "id": "fc0807c6",
   "metadata": {},
   "outputs": [],
   "source": []
  },
  {
   "cell_type": "markdown",
   "id": "c8faf41f",
   "metadata": {},
   "source": [
    "<b> Annex"
   ]
  },
  {
   "cell_type": "markdown",
   "id": "e0b3d4fd",
   "metadata": {},
   "source": [
    "|                      | Mario    | Alessia  | Peter    | Csaba    | Ron      |\n",
    "|:---------------------|---------:|---------:|---------:|---------:|---------:|\n",
    "| *Account Type*       | Basic    | Premium  | Basic    | Basic    | Basic    |\n",
    "| *Has Overdraft*      | Yes      | Yes      |  No      | Yes      |  Yes     |\n",
    "| *Balance at 01/01/23*| 1020.01  | 120.91   | - 32.12   | 1020.01  |    0     |\n",
    "| *January*            | <span style=\"color:green;\">+ 15</span>     |   0      | <span style=\"color:green;\">+ 15.30</span>  |    0     |    0     |\n",
    "| *February*           |    0     | <span style=\"color:green;\">+ 1</span>      |    0     | <span style=\"color:green;\">+ 1</span>      |    0     |\n",
    "| *March*              | <span style=\"color:green;\">+ 10</span>     | <span style=\"color:red;\">- 120</span>      | <span style=\"color:green;\">+ 10.12</span>  | <span style=\"color:red;\">- 120</span>    |    0     |\n",
    "| *April*              |    0     | <span style=\"color:green;\">+ 3</span>      |    0     |    0     |    0     |\n",
    "| *May*                |    0     |    0     |    0     |    0     |    0     |\n",
    "| *June*               | <span style=\"color:red;\">- 12</span>     |    0     |    0     |    0     |    0     |\n",
    "| *July*               |    0     |    0     |    0     |    0     | <span style=\"color:red;\">- 230.00</span>  |\n",
    "| *August*             |    0     |    0     |    0     |    0     |    0     |\n",
    "| *September*          |    0     |    0     |    0     |    0     |    0     |\n",
    "| *October*            | <span style=\"color:red;\">- 54</span>     |    0     | <span style=\"color:red;\">- 54.21</span>   |    0     |    0     |\n",
    "| *November*           |    0     |    0     |    0     |    0     |    0     |\n",
    "| *December*           | <span style=\"color:red;\">- 102</span>     | <span style=\"color:red;\">- 5</span>       | <span style=\"color:red;\">- 3</span>       |    0     |    0     |\n"
   ]
  }
 ],
 "metadata": {
  "kernelspec": {
   "display_name": "Python 3 (ipykernel)",
   "language": "python",
   "name": "python3"
  },
  "language_info": {
   "codemirror_mode": {
    "name": "ipython",
    "version": 3
   },
   "file_extension": ".py",
   "mimetype": "text/x-python",
   "name": "python",
   "nbconvert_exporter": "python",
   "pygments_lexer": "ipython3",
   "version": "3.11.5"
  }
 },
 "nbformat": 4,
 "nbformat_minor": 5
}
