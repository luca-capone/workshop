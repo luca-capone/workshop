{
 "cells": [
  {
   "cell_type": "markdown",
   "id": "4c2a3adb",
   "metadata": {},
   "source": [
    "# Esercizio\n",
    "\n",
    "## Assunzioni\n",
    "La \"STEM Bank\" ha 5 clienti:\n",
    "- Mario.\n",
    "- Alessia.\n",
    "- Anita.\n",
    "- Csaba.\n",
    "- Ron.\n",
    "\n",
    "La banca offre due tipi di conti correnti:\n",
    "- Base: gratuito.\n",
    "- Premium: costo 4 € al mese.\n",
    "\n",
    "La banca offre anche l'attivazione di servizio di scoperto.\n",
    "La copertura massima dello scoperto è:\n",
    "- 3000 € per i conti Base.\n",
    "- 12000 € per i conti Premium.\n",
    "\n",
    "Il costo dello scoperto è pari a:\n",
    "- 1 € fino a 1500 €.\n",
    "- 3.5 € fino a 3000 €.\n",
    "- 6 € fino a 5000 €.\n",
    "- 6 € + 0.05% della somma eccedente i 5000 € per gli importi sopra i 5000 €.\n",
    "\n",
    "Di seguito è presente una tabella in cui sono mostrate sinteticamente le info descritte in precedenza e gli incassi (+) e pagamenti (-) effettuati da ciascun cliente durante l'anno."
   ]
  },
  {
   "cell_type": "markdown",
   "id": "1ffc1bab",
   "metadata": {},
   "source": [
    "|                      | Mario    | Alessia  | Anita    | Csaba    | Ron      |\n",
    "|:---------------------|---------:|---------:|---------:|---------:|---------:|\n",
    "| *Tipo Conto Corrente*       | Base    | Premium  | Base    | Base    | Base    |\n",
    "| *Servizio Scoperto*      | Yes      | Yes      |  No      | Yes      |  Yes     |\n",
    "| *Saldo al 01/01/23*| 1020.01  | 120.91   | -32.12   | 1020.01  |    0     |\n",
    "| *Gennaio*            | + 15     |   0      | + 15.30  |    0     |    0     |\n",
    "| *Febbraio*           |    0     | + 1      |    0     |   1      |    0     |\n",
    "| *Marzo*              | + 10     |-120      | + 10.12  | - 120    |    0     |\n",
    "| *Aprile*              |    0     | + 3      |    0     |    0     |    0     |\n",
    "| *Maggio*                |    0     |    0     |    0     |    0     |    0     |\n",
    "| *Giugno*               | - 12     |    0     |    0     |    0     |    0     |\n",
    "| *Luglio*               |    0     |    0     |    0     |    0     | -230.00  |\n",
    "| *Agosto*             |    0     |    0     |    0     |    0     |    0     |\n",
    "| *Settembre*          |    0     |    0     |    0     |    0     |    0     |\n",
    "| *Ottobre*            | - 54     |    0     | -54.21   |    0     |    0     |\n",
    "| *Novembre*           |    0     |    0     |    0     |    0     |    0     |\n",
    "| *Dicembre*           | -102     | -5       | -3       |    0     |    -10000     |\n",
    "\n"
   ]
  },
  {
   "cell_type": "markdown",
   "id": "7d5c656a",
   "metadata": {},
   "source": [
    "## Commenti, Variabili e Costanti\n",
    "1. Assegnare il nome della banca che offre il conto alla variabile `bank_name`. Stampare un messaggio di benvenuto usando le f-string."
   ]
  },
  {
   "cell_type": "code",
   "execution_count": 1,
   "id": "6f871751",
   "metadata": {},
   "outputs": [
    {
     "name": "stdout",
     "output_type": "stream",
     "text": [
      "Welcome to STEM Bank\n"
     ]
    }
   ],
   "source": []
  },
  {
   "cell_type": "markdown",
   "id": "ceb8d7b9",
   "metadata": {},
   "source": [
    "2. Assegnare la commissione mensile del conto corrente alla variabile `premium_account_fee_monthly`."
   ]
  },
  {
   "cell_type": "code",
   "execution_count": 2,
   "id": "c462cee5",
   "metadata": {},
   "outputs": [],
   "source": []
  },
  {
   "cell_type": "markdown",
   "id": "5d7c117d",
   "metadata": {},
   "source": [
    "3. Verificare attraverso gli operatori di confronto che la commissione annuale sia pari a 48 €. Stampare un messaggio esplicativo."
   ]
  },
  {
   "cell_type": "code",
   "execution_count": 3,
   "id": "22086c0a",
   "metadata": {},
   "outputs": [
    {
     "name": "stdout",
     "output_type": "stream",
     "text": [
      "I conti tornano!\n"
     ]
    }
   ],
   "source": []
  },
  {
   "cell_type": "markdown",
   "id": "d6ccf341",
   "metadata": {},
   "source": [
    "## Collezioni\n",
    "1. Definire un dizionario `customer_account_type` le cui chiavi sono i clienti e i valori contenengono la tipologia di conto corrente."
   ]
  },
  {
   "cell_type": "code",
   "execution_count": 4,
   "id": "103f2c13",
   "metadata": {},
   "outputs": [],
   "source": []
  },
  {
   "cell_type": "markdown",
   "id": "9a2a85a5",
   "metadata": {},
   "source": [
    "2. Definire un dizionario `customer_has_overdraft` le cui chiavi sono i clienti e i valori (Bool) contenengono `True` se il prodotto `Overdraft` è attivo e `False` se non è attivo, sfruttando il fatto che le chiavi di questo dizionario devono essere le stesse di quelle del dizionario precedente."
   ]
  },
  {
   "cell_type": "code",
   "execution_count": 5,
   "id": "69b981ba",
   "metadata": {},
   "outputs": [],
   "source": []
  },
  {
   "cell_type": "markdown",
   "id": "691cb91e",
   "metadata": {},
   "source": [
    "3. Definire un dizionario `customer_balance_1y` le cui chiavi sono i clienti e i valori contenengono il saldo iniziale del conto del cliente."
   ]
  },
  {
   "cell_type": "code",
   "execution_count": 6,
   "id": "0afd5b36",
   "metadata": {},
   "outputs": [],
   "source": []
  },
  {
   "cell_type": "markdown",
   "id": "774da249",
   "metadata": {},
   "source": [
    "4. Per ogni cliente generare una lista di 12 numeri float tra -1'000.00 e 1'000.00 dove l'elemento di posto i rappresenta il saldo delle transazioni effettuate nell'i+1-esimo mese dell'anno. Mettiamo le liste in un dizionario e poi stampiamolo. Per eseguire questo esercizio avremo bisogno della funzione `randint` dal modulo `random`. Andiamo a leggerne la documentazione [qui](https://docs.python.org/3/library/random.html#random.randint) per capire come funziona.\n"
   ]
  },
  {
   "cell_type": "code",
   "execution_count": 7,
   "id": "52ded9a1",
   "metadata": {},
   "outputs": [
    {
     "name": "stdout",
     "output_type": "stream",
     "text": [
      "Transazioni di Mario: [-421.25, 745.9, 973.55, 531.63, 75.87, 176.36, 259.23, 476.32, -236.5, 627.68, -148.15, 190.61]\n",
      "Transazioni di Alessia: [-102.39, 682.74, 569.29, 454.78, 425.75, 670.16, 377.63, 685.67, -519.01, -588.8, 472.06, -376.6]\n",
      "Transazioni di Anita: [-909.32, -327.46, -955.23, -28.0, 570.94, -579.58, -907.37, 463.82, -884.4, -36.13, 442.25, 564.15]\n",
      "Transazioni di Csaba: [-473.19, -603.22, -709.94, 91.29, -333.65, -392.82, -508.57, 366.83, -719.18, -470.39, -689.06, -757.81]\n",
      "Transazioni di Ron: [190.17, -265.48, -838.06, 754.74, 607.53, 410.96, -631.51, 428.44, 80.41, -256.97, 689.3, 760.45]\n",
      "\n",
      "\n",
      "\n",
      "\n",
      "\n",
      "\n",
      "{'Mario': [-421.25, 745.9, 973.55, 531.63, 75.87, 176.36, 259.23, 476.32, -236.5, 627.68, -148.15, 190.61], 'Alessia': [-102.39, 682.74, 569.29, 454.78, 425.75, 670.16, 377.63, 685.67, -519.01, -588.8, 472.06, -376.6], 'Anita': [-909.32, -327.46, -955.23, -28.0, 570.94, -579.58, -907.37, 463.82, -884.4, -36.13, 442.25, 564.15], 'Csaba': [-473.19, -603.22, -709.94, 91.29, -333.65, -392.82, -508.57, 366.83, -719.18, -470.39, -689.06, -757.81], 'Ron': [190.17, -265.48, -838.06, 754.74, 607.53, 410.96, -631.51, 428.44, 80.41, -256.97, 689.3, 760.45]}\n"
     ]
    }
   ],
   "source": []
  },
  {
   "cell_type": "code",
   "execution_count": 8,
   "id": "fde10318",
   "metadata": {},
   "outputs": [
    {
     "name": "stdout",
     "output_type": "stream",
     "text": [
      "{'Alessia': [249.53,\n",
      "             -643.49,\n",
      "             286.27,\n",
      "             -735.3,\n",
      "             -534.08,\n",
      "             -855.18,\n",
      "             33.18,\n",
      "             883.6,\n",
      "             395.3,\n",
      "             515.54,\n",
      "             -833.21,\n",
      "             -674.27],\n",
      " 'Anita': [-702.53,\n",
      "           -9.25,\n",
      "           953.72,\n",
      "           463.7,\n",
      "           413.27,\n",
      "           -128.41,\n",
      "           -627.02,\n",
      "           -787.64,\n",
      "           -451.36,\n",
      "           345.74,\n",
      "           739.67,\n",
      "           543.53],\n",
      " 'Csaba': [122.49,\n",
      "           -728.36,\n",
      "           -86.94,\n",
      "           164.82,\n",
      "           -321.3,\n",
      "           -577.95,\n",
      "           -114.06,\n",
      "           -925.68,\n",
      "           935.22,\n",
      "           -56.07,\n",
      "           411.8,\n",
      "           96.77],\n",
      " 'Mario': [770.59,\n",
      "           -891.52,\n",
      "           166.61,\n",
      "           90.17,\n",
      "           250.4,\n",
      "           -658.62,\n",
      "           -676.23,\n",
      "           -265.12,\n",
      "           607.89,\n",
      "           968.22,\n",
      "           -60.88,\n",
      "           208.53],\n",
      " 'Ron': [-408.37,\n",
      "         -750.03,\n",
      "         -943.28,\n",
      "         -305.31,\n",
      "         -725.04,\n",
      "         301.15,\n",
      "         -624.72,\n",
      "         -98.04,\n",
      "         721.6,\n",
      "         -477.71,\n",
      "         299.56,\n",
      "         -575.71]}\n"
     ]
    }
   ],
   "source": []
  },
  {
   "cell_type": "code",
   "execution_count": 9,
   "id": "6eec90ea",
   "metadata": {},
   "outputs": [
    {
     "name": "stdout",
     "output_type": "stream",
     "text": [
      "{'Alessia': [-498.0,\n",
      "             737.5,\n",
      "             -26.34,\n",
      "             820.95,\n",
      "             654.52,\n",
      "             787.26,\n",
      "             714.67,\n",
      "             -526.95,\n",
      "             767.2,\n",
      "             -433.41,\n",
      "             105.68,\n",
      "             -840.02],\n",
      " 'Anita': [-282.25,\n",
      "           -337.22,\n",
      "           -336.92,\n",
      "           -519.13,\n",
      "           -865.21,\n",
      "           -289.19,\n",
      "           459.8,\n",
      "           314.33,\n",
      "           449.18,\n",
      "           -289.79,\n",
      "           -889.92,\n",
      "           -340.18],\n",
      " 'Csaba': [265.27,\n",
      "           643.21,\n",
      "           -686.8,\n",
      "           -451.06,\n",
      "           -521.67,\n",
      "           -16.63,\n",
      "           -596.76,\n",
      "           -639.27,\n",
      "           -304.13,\n",
      "           -909.63,\n",
      "           -808.7,\n",
      "           913.65],\n",
      " 'Mario': [-497.39,\n",
      "           163.86,\n",
      "           307.37,\n",
      "           630.63,\n",
      "           -349.62,\n",
      "           -280.19,\n",
      "           155.17,\n",
      "           909.71,\n",
      "           -341.69,\n",
      "           -215.43,\n",
      "           208.24,\n",
      "           -285.28],\n",
      " 'Ron': [925.39,\n",
      "         -640.12,\n",
      "         -639.63,\n",
      "         571.39,\n",
      "         -889.59,\n",
      "         758.02,\n",
      "         553.14,\n",
      "         -601.75,\n",
      "         -523.54,\n",
      "         240.8,\n",
      "         -242.78,\n",
      "         -811.89]}\n"
     ]
    }
   ],
   "source": []
  },
  {
   "cell_type": "markdown",
   "id": "dd84c594",
   "metadata": {},
   "source": [
    "\n",
    "- Recuperare le chiavi dei dizionari precedentemente creati e inserirle all'interno delle seguenti liste: `cust_current_account_type_dict_key`, `cust_has_overdraft_dict_key`, `cust_first_of_year_balance_dict_key`, `cust_transactions_list_dict_key`.\n"
   ]
  },
  {
   "cell_type": "markdown",
   "id": "6122b649",
   "metadata": {},
   "source": [
    "## Control Flow\n",
    "1. Verificare se nel mese di Gennaio Mario ha effettuato delle transazioni. nel caso in cui l'esito sia positivo stampare il seguente messaggio \"Mario ha effettuato spese a Gennaio\" altrimento stampare il seguente messaggio \"Mario non ha effettuato spese a Gennaio\"\n"
   ]
  },
  {
   "cell_type": "code",
   "execution_count": 10,
   "id": "ffa881ec",
   "metadata": {},
   "outputs": [
    {
     "name": "stdout",
     "output_type": "stream",
     "text": [
      "Mario non ha effettuato spese a Gennaio\n"
     ]
    }
   ],
   "source": []
  },
  {
   "cell_type": "markdown",
   "id": "0f3701f7",
   "metadata": {},
   "source": [
    "2. Verificare se la somma delle transazioni di Alessia siano negative\n"
   ]
  },
  {
   "cell_type": "code",
   "execution_count": 11,
   "id": "c276772c",
   "metadata": {},
   "outputs": [
    {
     "name": "stdout",
     "output_type": "stream",
     "text": [
      "La somma delle transazioni di Alessia è positivia\n",
      "La somma delle transazioni di Alessia è positiva\n",
      "La somma delle transazioni di Alessia è positiva\n",
      "La somma delle transazioni di Alessia è positiva\n"
     ]
    }
   ],
   "source": []
  },
  {
   "cell_type": "markdown",
   "id": "4041dd1f",
   "metadata": {},
   "source": [
    "3. Stampare tutte le transazioni di Mario usando la dicitura \"Transazioni Mario <nome del mese>:<valore> €\" (e.g. per il mese di Aprile \"Transazioni Mario Aprile:3 €\"). [hint](https://docs.python.org/3.3/library/functions.html#zip)"
   ]
  },
  {
   "cell_type": "code",
   "execution_count": 12,
   "id": "6d1913a5",
   "metadata": {},
   "outputs": [
    {
     "name": "stdout",
     "output_type": "stream",
     "text": [
      "Transazioni Mario Gennaio: -497.39 €\n",
      "Transazioni Mario Febbraio: 163.86 €\n",
      "Transazioni Mario Marzo: 307.37 €\n",
      "Transazioni Mario Aprile: 630.63 €\n",
      "Transazioni Mario Maggio: -349.62 €\n",
      "Transazioni Mario Giugno: -280.19 €\n",
      "Transazioni Mario Luglio: 155.17 €\n",
      "Transazioni Mario Agosto: 909.71 €\n",
      "Transazioni Mario Settembre: -341.69 €\n",
      "Transazioni Mario Ottobre: -215.43 €\n",
      "Transazioni Mario Novembre: 208.24 €\n",
      "Transazioni Mario Dicembre: -285.28 €\n"
     ]
    }
   ],
   "source": []
  },
  {
   "cell_type": "code",
   "execution_count": 13,
   "id": "2346c799",
   "metadata": {},
   "outputs": [
    {
     "name": "stdout",
     "output_type": "stream",
     "text": [
      "Transazioni Mario Gennaio: -497.39 €\n",
      "Transazioni Mario Febbraio: 163.86 €\n",
      "Transazioni Mario Marzo: 307.37 €\n",
      "Transazioni Mario Aprile: 630.63 €\n",
      "Transazioni Mario Maggio: -349.62 €\n",
      "Transazioni Mario Giugno: -280.19 €\n",
      "Transazioni Mario Luglio: 155.17 €\n",
      "Transazioni Mario Agosto: 909.71 €\n",
      "Transazioni Mario Settembre: -341.69 €\n",
      "Transazioni Mario Ottobre: -215.43 €\n",
      "Transazioni Mario Novembre: 208.24 €\n",
      "Transazioni Mario Dicembre: -285.28 €\n"
     ]
    }
   ],
   "source": []
  },
  {
   "cell_type": "code",
   "execution_count": 14,
   "id": "2ef0668a",
   "metadata": {},
   "outputs": [
    {
     "name": "stdout",
     "output_type": "stream",
     "text": [
      "Transazioni Mario Gennaio: -497.39 €\n",
      "Transazioni Mario Febbraio: 163.86 €\n",
      "Transazioni Mario Marzo: 307.37 €\n",
      "Transazioni Mario Aprile: 630.63 €\n",
      "Transazioni Mario Maggio: -349.62 €\n",
      "Transazioni Mario Giugno: -280.19 €\n",
      "Transazioni Mario Luglio: 155.17 €\n",
      "Transazioni Mario Agosto: 909.71 €\n",
      "Transazioni Mario Settembre: -341.69 €\n",
      "Transazioni Mario Ottobre: -215.43 €\n",
      "Transazioni Mario Novembre: 208.24 €\n",
      "Transazioni Mario Dicembre: -285.28 €\n"
     ]
    }
   ],
   "source": []
  },
  {
   "cell_type": "markdown",
   "id": "f8d801a1",
   "metadata": {},
   "source": [
    "4. Ripetere quanto fatto con Mario anche con Alessia, ma stavolta stampando \"Mese con saldo negativo\" se l'importo è negativo."
   ]
  },
  {
   "cell_type": "code",
   "execution_count": 15,
   "id": "abd62c0c",
   "metadata": {},
   "outputs": [
    {
     "name": "stdout",
     "output_type": "stream",
     "text": [
      "Mese negativo\n",
      "Transazioni Alessia Febbraio: 737.5 €\n",
      "Mese negativo\n",
      "Transazioni Alessia Aprile: 820.95 €\n",
      "Transazioni Alessia Maggio: 654.52 €\n",
      "Transazioni Alessia Giugno: 787.26 €\n",
      "Transazioni Alessia Luglio: 714.67 €\n",
      "Mese negativo\n",
      "Transazioni Alessia Settembre: 767.2 €\n",
      "Mese negativo\n",
      "Transazioni Alessia Novembre: 105.68 €\n",
      "Mese negativo\n"
     ]
    }
   ],
   "source": []
  },
  {
   "cell_type": "markdown",
   "id": "f6169523",
   "metadata": {},
   "source": [
    "## Funzioni\n",
    "\n",
    "1. Definire una funzione `get_transaction_sign` che restituisca il valore `True` se la transazione ha segno negativo e `False` se ha segno positivo."
   ]
  },
  {
   "cell_type": "code",
   "execution_count": 16,
   "id": "a1768bc0",
   "metadata": {},
   "outputs": [],
   "source": []
  },
  {
   "cell_type": "markdown",
   "id": "47f3ee75",
   "metadata": {},
   "source": [
    "2. Definire una funzione `get_transaction_sum` che riceva in input la lista delle transazioni e fornisca in output la somma delle transazioni. Verificare il risultato della funzione usando la lista delle transazioni di Alessia e confrontandolo con l'esercizio della sezione control flow."
   ]
  },
  {
   "cell_type": "code",
   "execution_count": 17,
   "id": "dfd617ed",
   "metadata": {},
   "outputs": [],
   "source": []
  },
  {
   "cell_type": "markdown",
   "id": "3d1f5a1f",
   "metadata": {},
   "source": [
    "3. Definire una funzione `get_overdraft_monthly_fees` che, dato un importo di scoperto, restituisca la commissione da pagare per quel dato mese."
   ]
  },
  {
   "cell_type": "code",
   "execution_count": 18,
   "id": "a9c6659d",
   "metadata": {},
   "outputs": [],
   "source": []
  },
  {
   "cell_type": "markdown",
   "id": "865bd037",
   "metadata": {},
   "source": [
    "## Classi\n",
    "\n",
    "1. Finora abbiamo considerato le varie caratteristiche del cliente in maniera separata. Ora creiamo una classe `Customer` che contenga tutte le informazioni pertinenti ad un dato cliente. La classe dovrà avere quindi gli attributi: `account_type` (\"Base\" o \"Premium\"), `has_overdraft_service`(`True` o `False`) ed il bilancio (un numero float) ed ovviamente un attributo `name` contente il nome del cliente. Dovremo poter inizializzare la classe per Mario così:\n",
    "\n",
    "    ```python\n",
    "    mario = Customer(\"Mario\", \"Base\", True, 1020.01)\n",
    "    ```"
   ]
  },
  {
   "cell_type": "code",
   "execution_count": 19,
   "id": "a538bc5c",
   "metadata": {},
   "outputs": [],
   "source": []
  },
  {
   "cell_type": "markdown",
   "id": "e54f61a4",
   "metadata": {},
   "source": [
    "2. Ridefiniamo la classe aggiungendo un metodo `get_fees`` che restituisca il costo del conto del cliente. Stampiamo il messaggio \"Commissioni mensili Mario (conto: <tipo di conto>): <importo>\"."
   ]
  },
  {
   "cell_type": "code",
   "execution_count": 20,
   "id": "c60c08e6",
   "metadata": {},
   "outputs": [
    {
     "data": {
      "text/plain": [
       "0.0"
      ]
     },
     "execution_count": 20,
     "metadata": {},
     "output_type": "execute_result"
    }
   ],
   "source": []
  },
  {
   "cell_type": "markdown",
   "id": "e88700d5",
   "metadata": {},
   "source": [
    "3. Aggiungiamo un metodo `upgrade`che modifica il tipo di conto facendolo passare a Premium. Cambiamo il tipo di conto di Mario e invochiamo nuovamente il metodo `get_fees`."
   ]
  },
  {
   "cell_type": "code",
   "execution_count": 21,
   "id": "b3e26604",
   "metadata": {},
   "outputs": [
    {
     "name": "stdout",
     "output_type": "stream",
     "text": [
      "Commissioni mensili Mario (conto: Base): 0\n",
      "Commissioni mensili Mario (conto: Premium): 4.0\n"
     ]
    }
   ],
   "source": []
  },
  {
   "cell_type": "markdown",
   "id": "70fb1dc2",
   "metadata": {},
   "source": [
    "## Esercizio Finale\n",
    "Completiamo il puzzle\n",
    "1. Calcolare il saldo al 31/12/23 per ciascun cliente `outstanding_eoy_customer`."
   ]
  },
  {
   "cell_type": "markdown",
   "id": "85284b1c",
   "metadata": {},
   "source": [
    "2. Mostrare a video i nomi dei clienti che hanno utilizzato il servizio di scoperto e i mesi in cui lo hanno fatto."
   ]
  },
  {
   "cell_type": "markdown",
   "id": "e54fcb82",
   "metadata": {},
   "source": [
    "3. Calcolare i ricavi totali per cliente `tot_rev_on_customer` come la somma di tutte le commissioni applicate per il conto e per gli scoperti."
   ]
  },
  {
   "cell_type": "markdown",
   "id": "827303d5",
   "metadata": {},
   "source": [
    "4. Calcolare i ricavi complessivi della banca `tot_rev_bank`."
   ]
  },
  {
   "cell_type": "markdown",
   "id": "d709117b",
   "metadata": {},
   "source": [
    "5. Calcolare i ricavi totali per cliente rapportati al loro saldo al 31/12/23 `tot_rev_on_customer_over_eoy_outstanding`."
   ]
  },
  {
   "cell_type": "code",
   "execution_count": null,
   "id": "ec4e1ba0",
   "metadata": {},
   "outputs": [],
   "source": []
  }
 ],
 "metadata": {
  "kernelspec": {
   "display_name": "Python 3 (ipykernel)",
   "language": "python",
   "name": "python3"
  },
  "language_info": {
   "codemirror_mode": {
    "name": "ipython",
    "version": 3
   },
   "file_extension": ".py",
   "mimetype": "text/x-python",
   "name": "python",
   "nbconvert_exporter": "python",
   "pygments_lexer": "ipython3",
   "version": "3.12.2"
  }
 },
 "nbformat": 4,
 "nbformat_minor": 5
}
