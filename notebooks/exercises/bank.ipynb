{
 "cells": [
  {
   "cell_type": "markdown",
   "id": "4c2a3adb",
   "metadata": {},
   "source": [
    "# Esercizio\n",
    "\n",
    "## Assunzioni\n",
    "La \"STEM Bank\" ha 5 clienti:\n",
    "- Mario.\n",
    "- Alessia.\n",
    "- Anita.\n",
    "- Csaba.\n",
    "- Ron.\n",
    "\n",
    "La banca offre due tipi di conti correnti:\n",
    "- Base: gratuito.\n",
    "- Premium: costo 4 € al mese.\n",
    "\n",
    "La banca offre anche l'attivazione di servizio di scoperto.\n",
    "La copertura massima dello scoperto è:\n",
    "- 3000 € per i conti Base.\n",
    "- 12000 € per i conti Premium.\n",
    "\n",
    "Il costo dello scoperto è pari a:\n",
    "- 1 € fino a 1500 €.\n",
    "- 3.5 € fino a 3000 €.\n",
    "- 6 € fino a 5000 €.\n",
    "- 6 € + 0.05% della somma eccedente i 5000 € per gli importi sopra i 5000 €.\n",
    "\n",
    "Di seguito è presente una tabella in cui sono mostrate sinteticamente le info descritte in precedenza."
   ]
  },
  {
   "cell_type": "markdown",
   "id": "1ffc1bab",
   "metadata": {},
   "source": [
    "|                      | Mario    | Alessia  | Anita    | Csaba    | Ron      |\n",
    "|:---------------------|---------:|---------:|---------:|---------:|---------:|\n",
    "| *Tipo Conto Corrente*       | Base    | Premium  | Base    | Base    | Base    |\n",
    "| *Servizio Scoperto*      | Yes      | Yes      |  No      | Yes      |  Yes     |\n",
    "| *Saldo al 01/01/23*| 1020.01  | 120.91   | -32.12   | 1020.01  |    0     |\n",
    "\n"
   ]
  },
  {
   "cell_type": "markdown",
   "id": "7d5c656a",
   "metadata": {},
   "source": [
    "## Commenti, Variabili e Costanti\n",
    "1. Assegnare il nome della banca che offre il conto alla variabile `bank_name`. Stampare un messaggio di benvenuto usando le f-string."
   ]
  },
  {
   "cell_type": "code",
   "execution_count": 1,
   "id": "6f871751",
   "metadata": {},
   "outputs": [
    {
     "name": "stdout",
     "output_type": "stream",
     "text": [
      "Welcome to STEM Bank\n"
     ]
    }
   ],
   "source": []
  },
  {
   "cell_type": "markdown",
   "id": "ceb8d7b9",
   "metadata": {},
   "source": [
    "2. Assegnare la commissione mensile del conto corrente alla variabile `premium_account_fee_monthly`."
   ]
  },
  {
   "cell_type": "code",
   "execution_count": 2,
   "id": "c462cee5",
   "metadata": {},
   "outputs": [],
   "source": []
  },
  {
   "cell_type": "markdown",
   "id": "5d7c117d",
   "metadata": {},
   "source": [
    "3. Verificare attraverso gli operatori di confronto che la commissione annuale sia pari a 48 €. Stampare un messaggio esplicativo."
   ]
  },
  {
   "cell_type": "code",
   "execution_count": 3,
   "id": "22086c0a",
   "metadata": {},
   "outputs": [
    {
     "name": "stdout",
     "output_type": "stream",
     "text": [
      "I conti tornano!\n"
     ]
    }
   ],
   "source": []
  },
  {
   "cell_type": "markdown",
   "id": "d6ccf341",
   "metadata": {},
   "source": [
    "## Collezioni\n",
    "1. Definire un dizionario `customer_account_type` le cui chiavi sono i clienti e i valori contenengono la tipologia di conto corrente."
   ]
  },
  {
   "cell_type": "code",
   "execution_count": 4,
   "id": "103f2c13",
   "metadata": {},
   "outputs": [],
   "source": []
  },
  {
   "cell_type": "markdown",
   "id": "9a2a85a5",
   "metadata": {},
   "source": [
    "2. Definire un dizionario `customer_has_overdraft` le cui chiavi sono i clienti e i valori (Bool) contenengono `True` se il prodotto `Overdraft` è attivo e `False` se non è attivo, sfruttando il fatto che le chiavi di questo dizionario devono essere le stesse di quelle del dizionario precedente."
   ]
  },
  {
   "cell_type": "code",
   "execution_count": 5,
   "id": "69b981ba",
   "metadata": {},
   "outputs": [],
   "source": []
  },
  {
   "cell_type": "markdown",
   "id": "691cb91e",
   "metadata": {},
   "source": [
    "3. Definire un dizionario `customer_balance_last_year` le cui chiavi sono i clienti e i valori contenengono il saldo iniziale del conto del cliente."
   ]
  },
  {
   "cell_type": "code",
   "execution_count": 6,
   "id": "0afd5b36",
   "metadata": {},
   "outputs": [],
   "source": []
  },
  {
   "cell_type": "markdown",
   "id": "774da249",
   "metadata": {},
   "source": [
    "4. Per ogni cliente generare una lista di 12 numeri float tra -300.00 e 300.00 dove l'elemento di posto i rappresenta il saldo delle transazioni effettuate nell'i+1-esimo mese dell'anno. Mettiamo le liste in un dizionario e poi stampiamolo. Per eseguire questo esercizio avremo bisogno della funzione `randint` dal modulo `random`. Andiamo a leggerne la documentazione [qui](https://docs.python.org/3/library/random.html#random.randint) per capire come funziona.\n"
   ]
  },
  {
   "cell_type": "code",
   "execution_count": 7,
   "id": "52ded9a1",
   "metadata": {},
   "outputs": [
    {
     "name": "stdout",
     "output_type": "stream",
     "text": [
      "Transazioni di Mario: [-237.45, -66.41, -282.35, 194.77, -14.08, 250.91, -202.43, -262.9, -80.48, 182.86, 275.87, -57.18]\n",
      "Transazioni di Alessia: [257.81, -142.57, -3.78, 276.02, 79.35, 138.24, -16.44, 298.12, 135.71, 220.88, 251.2, 175.89]\n",
      "Transazioni di Anita: [-227.49, -52.68, -242.17, -38.51, -201.04, 201.84, -191.04, -274.5, -262.54, 150.89, -101.28, 52.54]\n",
      "Transazioni di Csaba: [204.89, 131.46, 178.78, 38.15, 69.14, 104.76, -63.06, 132.79, -286.14, -222.96, -157.68, -149.3]\n",
      "Transazioni di Ron: [17.97, -113.2, 166.35, -274.29, 235.21, -170.29, -113.93, 224.74, -95.08, 168.85, -10.89, 71.13]\n",
      "\n",
      "\n",
      "\n",
      "\n",
      "\n",
      "\n",
      "{'Mario': [-237.45, -66.41, -282.35, 194.77, -14.08, 250.91, -202.43, -262.9, -80.48, 182.86, 275.87, -57.18], 'Alessia': [257.81, -142.57, -3.78, 276.02, 79.35, 138.24, -16.44, 298.12, 135.71, 220.88, 251.2, 175.89], 'Anita': [-227.49, -52.68, -242.17, -38.51, -201.04, 201.84, -191.04, -274.5, -262.54, 150.89, -101.28, 52.54], 'Csaba': [204.89, 131.46, 178.78, 38.15, 69.14, 104.76, -63.06, 132.79, -286.14, -222.96, -157.68, -149.3], 'Ron': [17.97, -113.2, 166.35, -274.29, 235.21, -170.29, -113.93, 224.74, -95.08, 168.85, -10.89, 71.13]}\n"
     ]
    }
   ],
   "source": []
  },
  {
   "cell_type": "code",
   "execution_count": 8,
   "id": "fde10318",
   "metadata": {},
   "outputs": [
    {
     "name": "stdout",
     "output_type": "stream",
     "text": [
      "{'Alessia': [140.17,\n",
      "             95.33,\n",
      "             71.66,\n",
      "             149.41,\n",
      "             -58.09,\n",
      "             176.6,\n",
      "             -254.79,\n",
      "             -50.98,\n",
      "             -124.72,\n",
      "             194.94,\n",
      "             -160.38,\n",
      "             100.5],\n",
      " 'Anita': [274.05,\n",
      "           246.87,\n",
      "           22.25,\n",
      "           -131.76,\n",
      "           -250.29,\n",
      "           -246.01,\n",
      "           232.37,\n",
      "           -46.78,\n",
      "           -295.25,\n",
      "           -22.81,\n",
      "           -147.84,\n",
      "           -183.93],\n",
      " 'Csaba': [-299.57,\n",
      "           285.04,\n",
      "           38.79,\n",
      "           -244.38,\n",
      "           210.75,\n",
      "           -52.08,\n",
      "           128.45,\n",
      "           -222.99,\n",
      "           119.16,\n",
      "           -14.01,\n",
      "           -207.88,\n",
      "           -207.06],\n",
      " 'Mario': [-165.98,\n",
      "           54.8,\n",
      "           104.45,\n",
      "           147.51,\n",
      "           88.95,\n",
      "           -128.8,\n",
      "           86.87,\n",
      "           -110.32,\n",
      "           -171.21,\n",
      "           209.32,\n",
      "           -297.11,\n",
      "           63.52],\n",
      " 'Ron': [-298.88,\n",
      "         -194.76,\n",
      "         -299.05,\n",
      "         -79.17,\n",
      "         155.78,\n",
      "         285.17,\n",
      "         124.93,\n",
      "         250.45,\n",
      "         -88.19,\n",
      "         -247.46,\n",
      "         98.48,\n",
      "         270.1]}\n"
     ]
    }
   ],
   "source": []
  },
  {
   "cell_type": "code",
   "execution_count": 9,
   "id": "6eec90ea",
   "metadata": {},
   "outputs": [
    {
     "name": "stdout",
     "output_type": "stream",
     "text": [
      "{'Alessia': [-126.25,\n",
      "             22.81,\n",
      "             192.77,\n",
      "             -158.54,\n",
      "             -161.51,\n",
      "             -176.52,\n",
      "             196.73,\n",
      "             -161.14,\n",
      "             -257.53,\n",
      "             -254.34,\n",
      "             6.0,\n",
      "             -50.42],\n",
      " 'Anita': [178.9,\n",
      "           -212.67,\n",
      "           -239.31,\n",
      "           -262.85,\n",
      "           114.79,\n",
      "           -46.9,\n",
      "           -297.97,\n",
      "           90.69,\n",
      "           59.16,\n",
      "           89.09,\n",
      "           180.76,\n",
      "           -247.64],\n",
      " 'Csaba': [-186.8,\n",
      "           165.29,\n",
      "           231.99,\n",
      "           -293.6,\n",
      "           86.1,\n",
      "           -213.81,\n",
      "           155.74,\n",
      "           -163.77,\n",
      "           72.38,\n",
      "           70.89,\n",
      "           112.15,\n",
      "           -159.3],\n",
      " 'Mario': [239.84,\n",
      "           255.34,\n",
      "           281.35,\n",
      "           200.74,\n",
      "           61.53,\n",
      "           168.86,\n",
      "           151.4,\n",
      "           -61.25,\n",
      "           -21.38,\n",
      "           -292.1,\n",
      "           -165.78,\n",
      "           2.97],\n",
      " 'Ron': [4.63,\n",
      "         36.83,\n",
      "         -101.57,\n",
      "         -166.89,\n",
      "         -112.41,\n",
      "         -212.34,\n",
      "         124.26,\n",
      "         -268.16,\n",
      "         48.96,\n",
      "         231.26,\n",
      "         -99.4,\n",
      "         -217.81]}\n"
     ]
    }
   ],
   "source": []
  },
  {
   "cell_type": "markdown",
   "id": "c9ed2967",
   "metadata": {},
   "source": [
    "Siccome vogliamo che i passi seguenti siano identici per tutti, useremo delle liste predefinite. Copia il codice\n",
    "seguente e incollalo in una nuova cella.\n",
    "\n",
    "```python\n",
    "customer_transaction_balances = {\n",
    "    \"Mario\": [-289.16, 57.17, -92.70, 56.69, -24.68, 75.02, 197.91, 191.07, -103.75, -96.43, -133.06, 118.55],\n",
    "    \"Alessia\": [-252.23, -114.19, 94.51, -178.26, -280.96, 158.67, -257.44, 284.49, -196.76, -241.04, 298.32, 192.75],\n",
    "    \"Anita\": [-20.76, 52.88, 0.00, -210.23, 210.23, 0.00, 0.00, 0.00, 0.00, 114.48, -110.57, 195.32],\n",
    "    \"Csaba\": [-114.24, -47.49, -91.33, 259.19, -56.47, -175.55, 246.66, 201.63, -165.04, 244.74, 132.45, 106.47],\n",
    "    \"Ron\": [-10.86, -73.45, 30.32, 52.99, 247.69, -85.21, -187.80, 99.48, -171.33, -16.24, 183.08, 234.57]\n",
    "}\n",
    "```"
   ]
  },
  {
   "cell_type": "code",
   "execution_count": 10,
   "id": "2d48a522",
   "metadata": {},
   "outputs": [],
   "source": []
  },
  {
   "cell_type": "markdown",
   "id": "6122b649",
   "metadata": {},
   "source": [
    "## Control Flow\n",
    "1. Verificare se nel mese di Gennaio Mario ha effettuato delle transazioni. nel caso in cui l'esito sia positivo stampare il seguente messaggio \"Mario ha effettuato transazioni a Gennaio\" altrimento stampare il seguente messaggio \"Mario non ha effettuato transazioni a Gennaio\"\n"
   ]
  },
  {
   "cell_type": "code",
   "execution_count": 11,
   "id": "ffa881ec",
   "metadata": {},
   "outputs": [
    {
     "name": "stdout",
     "output_type": "stream",
     "text": [
      "Mario ha effettuato transazioni a Gennaio\n"
     ]
    }
   ],
   "source": []
  },
  {
   "cell_type": "markdown",
   "id": "0f3701f7",
   "metadata": {},
   "source": [
    "2. Verificare se la somma delle transazioni di Alessia siano negative\n"
   ]
  },
  {
   "cell_type": "code",
   "execution_count": 12,
   "id": "c276772c",
   "metadata": {},
   "outputs": [
    {
     "name": "stdout",
     "output_type": "stream",
     "text": [
      "La somma delle transazioni di Alessia è negativa\n",
      "La somma delle transazioni di Alessia è negativa\n",
      "La somma delle transazioni di Alessia è negativa\n",
      "La somma delle transazioni di Alessia è negativa\n"
     ]
    }
   ],
   "source": []
  },
  {
   "cell_type": "markdown",
   "id": "4041dd1f",
   "metadata": {},
   "source": [
    "3. Stampare tutte le transazioni di Mario usando la dicitura \"Transazioni Mario <nome del mese>:<valore> €\" (e.g. per il mese di Aprile \"Transazioni Mario Aprile:3 €\"). [hint](https://docs.python.org/3.3/library/functions.html#zip)"
   ]
  },
  {
   "cell_type": "code",
   "execution_count": 13,
   "id": "6d1913a5",
   "metadata": {},
   "outputs": [
    {
     "name": "stdout",
     "output_type": "stream",
     "text": [
      "Transazioni Mario Gennaio: -289.16 €\n",
      "Transazioni Mario Febbraio: 57.17 €\n",
      "Transazioni Mario Marzo: -92.7 €\n",
      "Transazioni Mario Aprile: 56.69 €\n",
      "Transazioni Mario Maggio: -24.68 €\n",
      "Transazioni Mario Giugno: 75.02 €\n",
      "Transazioni Mario Luglio: 197.91 €\n",
      "Transazioni Mario Agosto: 191.07 €\n",
      "Transazioni Mario Settembre: -103.75 €\n",
      "Transazioni Mario Ottobre: -96.43 €\n",
      "Transazioni Mario Novembre: -133.06 €\n",
      "Transazioni Mario Dicembre: 118.55 €\n"
     ]
    }
   ],
   "source": []
  },
  {
   "cell_type": "code",
   "execution_count": 14,
   "id": "2346c799",
   "metadata": {},
   "outputs": [
    {
     "name": "stdout",
     "output_type": "stream",
     "text": [
      "Transazioni Mario Gennaio: -289.16 €\n",
      "Transazioni Mario Febbraio: 57.17 €\n",
      "Transazioni Mario Marzo: -92.7 €\n",
      "Transazioni Mario Aprile: 56.69 €\n",
      "Transazioni Mario Maggio: -24.68 €\n",
      "Transazioni Mario Giugno: 75.02 €\n",
      "Transazioni Mario Luglio: 197.91 €\n",
      "Transazioni Mario Agosto: 191.07 €\n",
      "Transazioni Mario Settembre: -103.75 €\n",
      "Transazioni Mario Ottobre: -96.43 €\n",
      "Transazioni Mario Novembre: -133.06 €\n",
      "Transazioni Mario Dicembre: 118.55 €\n"
     ]
    }
   ],
   "source": []
  },
  {
   "cell_type": "code",
   "execution_count": 15,
   "id": "2ef0668a",
   "metadata": {},
   "outputs": [
    {
     "name": "stdout",
     "output_type": "stream",
     "text": [
      "Transazioni Mario Gennaio: -289.16 €\n",
      "Transazioni Mario Febbraio: 57.17 €\n",
      "Transazioni Mario Marzo: -92.7 €\n",
      "Transazioni Mario Aprile: 56.69 €\n",
      "Transazioni Mario Maggio: -24.68 €\n",
      "Transazioni Mario Giugno: 75.02 €\n",
      "Transazioni Mario Luglio: 197.91 €\n",
      "Transazioni Mario Agosto: 191.07 €\n",
      "Transazioni Mario Settembre: -103.75 €\n",
      "Transazioni Mario Ottobre: -96.43 €\n",
      "Transazioni Mario Novembre: -133.06 €\n",
      "Transazioni Mario Dicembre: 118.55 €\n"
     ]
    }
   ],
   "source": []
  },
  {
   "cell_type": "markdown",
   "id": "f8d801a1",
   "metadata": {},
   "source": [
    "4. Ripetere quanto fatto con Mario anche con Alessia, ma stavolta stampando \"Mese con saldo negativo\" se l'importo è negativo."
   ]
  },
  {
   "cell_type": "code",
   "execution_count": 16,
   "id": "abd62c0c",
   "metadata": {},
   "outputs": [
    {
     "name": "stdout",
     "output_type": "stream",
     "text": [
      "Mese negativo\n",
      "Mese negativo\n",
      "Mese negativo\n",
      "Mese negativo\n",
      "Mese negativo\n",
      "Transazioni Alessia Giugno: 158.67 €\n",
      "Mese negativo\n",
      "Mese negativo\n",
      "Mese negativo\n",
      "Mese negativo\n",
      "Transazioni Alessia Novembre: 298.32 €\n",
      "Transazioni Alessia Dicembre: 192.75 €\n"
     ]
    }
   ],
   "source": []
  },
  {
   "cell_type": "markdown",
   "id": "f6169523",
   "metadata": {},
   "source": [
    "## Funzioni\n",
    "\n",
    "1. Definire una funzione `get_transaction_sign` che restituisca il valore `True` se la transazione ha segno negativo e `False` se ha segno positivo."
   ]
  },
  {
   "cell_type": "code",
   "execution_count": 17,
   "id": "a1768bc0",
   "metadata": {},
   "outputs": [],
   "source": []
  },
  {
   "cell_type": "markdown",
   "id": "47f3ee75",
   "metadata": {},
   "source": [
    "2. Definire una funzione `get_transaction_sum` che riceva in input la lista delle transazioni e fornisca in output la somma delle transazioni. Verificare il risultato della funzione usando la lista delle transazioni di Alessia e confrontandolo con l'esercizio della sezione control flow."
   ]
  },
  {
   "cell_type": "code",
   "execution_count": 18,
   "id": "dfd617ed",
   "metadata": {},
   "outputs": [],
   "source": []
  },
  {
   "cell_type": "markdown",
   "id": "3d1f5a1f",
   "metadata": {},
   "source": [
    "3. Definire una funzione `get_overdraft_monthly_fees` che, dato un importo di scoperto, restituisca la commissione da pagare per quel dato mese."
   ]
  },
  {
   "cell_type": "code",
   "execution_count": 19,
   "id": "a9c6659d",
   "metadata": {},
   "outputs": [],
   "source": []
  },
  {
   "cell_type": "markdown",
   "id": "865bd037",
   "metadata": {},
   "source": [
    "## Classi\n",
    "\n",
    "1. Finora abbiamo considerato le varie caratteristiche del cliente in maniera separata. Ora creiamo una classe `Customer` che contenga tutte le informazioni pertinenti ad un dato cliente. La classe dovrà avere quindi gli attributi: `account_type` (\"Base\" o \"Premium\"), `has_overdraft_service`(`True` o `False`) ed il bilancio (un numero float) ed ovviamente un attributo `name` contente il nome del cliente. Dovremo poter inizializzare la classe per Mario così:\n",
    "\n",
    "    ```python\n",
    "    mario = Customer(\"Mario\", \"Base\", True, 1020.01)\n",
    "    ```"
   ]
  },
  {
   "cell_type": "code",
   "execution_count": 20,
   "id": "a538bc5c",
   "metadata": {},
   "outputs": [],
   "source": []
  },
  {
   "cell_type": "markdown",
   "id": "e54f61a4",
   "metadata": {},
   "source": [
    "2. Ridefiniamo la classe aggiungendo un metodo `get_fees`` che restituisca il costo del conto del cliente. Stampiamo il messaggio \"Commissioni mensili Mario (conto: <tipo di conto>): <importo>\"."
   ]
  },
  {
   "cell_type": "code",
   "execution_count": 21,
   "id": "c60c08e6",
   "metadata": {},
   "outputs": [
    {
     "data": {
      "text/plain": [
       "0.0"
      ]
     },
     "execution_count": 21,
     "metadata": {},
     "output_type": "execute_result"
    }
   ],
   "source": []
  },
  {
   "cell_type": "markdown",
   "id": "e88700d5",
   "metadata": {},
   "source": [
    "3. Aggiungiamo un metodo `upgrade`che modifica il tipo di conto facendolo passare a Premium. Cambiamo il tipo di conto di Mario e invochiamo nuovamente il metodo `get_fees`."
   ]
  },
  {
   "cell_type": "code",
   "execution_count": 22,
   "id": "b3e26604",
   "metadata": {},
   "outputs": [
    {
     "name": "stdout",
     "output_type": "stream",
     "text": [
      "Commissioni mensili Mario (conto: Base): 0\n",
      "Commissioni mensili Mario (conto: Premium): 4.0\n"
     ]
    }
   ],
   "source": []
  },
  {
   "cell_type": "markdown",
   "id": "70fb1dc2",
   "metadata": {},
   "source": [
    "## Esercizio Finale\n",
    "Completiamo il puzzle\n",
    "1. Calcolare il saldo al 31/12/23 per ciascun cliente `outstanding_eoy_customer`."
   ]
  },
  {
   "cell_type": "code",
   "execution_count": 23,
   "id": "ec5f1bf4",
   "metadata": {},
   "outputs": [
    {
     "name": "stdout",
     "output_type": "stream",
     "text": [
      "{'Alessia': -1229.2299999999998,\n",
      " 'Anita': 263.46999999999997,\n",
      " 'Csaba': 1561.03,\n",
      " 'Mario': 976.64,\n",
      " 'Ron': 303.24}\n"
     ]
    }
   ],
   "source": []
  },
  {
   "cell_type": "markdown",
   "id": "85284b1c",
   "metadata": {},
   "source": [
    "2. Mostrare a video i nomi dei clienti che hanno utilizzato il servizio di scoperto e i mesi in cui lo hanno fatto."
   ]
  },
  {
   "cell_type": "code",
   "execution_count": 24,
   "id": "7130b5b9",
   "metadata": {},
   "outputs": [
    {
     "name": "stdout",
     "output_type": "stream",
     "text": [
      "Analisi del cliente Mario\n",
      "Analisi del mese Gennaio per il cliente Mario.\n",
      "Analisi del mese Febbraio per il cliente Mario.\n",
      "Analisi del mese Marzo per il cliente Mario.\n",
      "Analisi del mese Aprile per il cliente Mario.\n",
      "Analisi del mese Maggio per il cliente Mario.\n",
      "Analisi del mese Giugno per il cliente Mario.\n",
      "Analisi del mese Luglio per il cliente Mario.\n",
      "Analisi del mese Agosto per il cliente Mario.\n",
      "Analisi del mese Settembre per il cliente Mario.\n",
      "Analisi del mese Ottobre per il cliente Mario.\n",
      "Analisi del mese Novembre per il cliente Mario.\n",
      "Analisi del mese Dicembre per il cliente Mario.\n",
      "Analisi del cliente Alessia\n",
      "Analisi del mese Gennaio per il cliente Alessia.\n",
      "Il cliente Alessia ha un saldo di -131.32 nel mese di Gennaio.\n",
      "Analisi del mese Febbraio per il cliente Alessia.\n",
      "Il cliente Alessia ha un saldo di -245.51 nel mese di Febbraio.\n",
      "Analisi del mese Marzo per il cliente Alessia.\n",
      "Il cliente Alessia ha un saldo di -440.02 nel mese di Marzo.\n",
      "Analisi del mese Aprile per il cliente Alessia.\n",
      "Il cliente Alessia ha un saldo di -618.28 nel mese di Aprile.\n",
      "Analisi del mese Maggio per il cliente Alessia.\n",
      "Il cliente Alessia ha un saldo di -899.24 nel mese di Maggio.\n",
      "Analisi del mese Giugno per il cliente Alessia.\n",
      "Il cliente Alessia ha un saldo di -740.57 nel mese di Giugno.\n",
      "Analisi del mese Luglio per il cliente Alessia.\n",
      "Il cliente Alessia ha un saldo di -998.01 nel mese di Luglio.\n",
      "Analisi del mese Agosto per il cliente Alessia.\n",
      "Il cliente Alessia ha un saldo di -1282.5 nel mese di Agosto.\n",
      "Analisi del mese Settembre per il cliente Alessia.\n",
      "Il cliente Alessia ha un saldo di -1479.26 nel mese di Settembre.\n",
      "Analisi del mese Ottobre per il cliente Alessia.\n",
      "Il cliente Alessia ha un saldo di -1720.3 nel mese di Ottobre.\n",
      "Analisi del mese Novembre per il cliente Alessia.\n",
      "Il cliente Alessia ha un saldo di -1421.98 nel mese di Novembre.\n",
      "Analisi del mese Dicembre per il cliente Alessia.\n",
      "Il cliente Alessia ha un saldo di -1229.23 nel mese di Dicembre.\n",
      "Analisi del cliente Anita\n",
      "Il cliente Anita non ha attivo il servizio di scoperto.\n",
      "Analisi del cliente Csaba\n",
      "Analisi del mese Gennaio per il cliente Csaba.\n",
      "Analisi del mese Febbraio per il cliente Csaba.\n",
      "Analisi del mese Marzo per il cliente Csaba.\n",
      "Analisi del mese Aprile per il cliente Csaba.\n",
      "Analisi del mese Maggio per il cliente Csaba.\n",
      "Analisi del mese Giugno per il cliente Csaba.\n",
      "Analisi del mese Luglio per il cliente Csaba.\n",
      "Analisi del mese Agosto per il cliente Csaba.\n",
      "Analisi del mese Settembre per il cliente Csaba.\n",
      "Analisi del mese Ottobre per il cliente Csaba.\n",
      "Analisi del mese Novembre per il cliente Csaba.\n",
      "Analisi del mese Dicembre per il cliente Csaba.\n",
      "Analisi del cliente Ron\n",
      "Analisi del mese Gennaio per il cliente Ron.\n",
      "Il cliente Ron ha un saldo di -10.86 nel mese di Gennaio.\n",
      "Analisi del mese Febbraio per il cliente Ron.\n",
      "Il cliente Ron ha un saldo di -84.31 nel mese di Febbraio.\n",
      "Analisi del mese Marzo per il cliente Ron.\n",
      "Il cliente Ron ha un saldo di -53.99 nel mese di Marzo.\n",
      "Analisi del mese Aprile per il cliente Ron.\n",
      "Il cliente Ron ha un saldo di -1.0 nel mese di Aprile.\n",
      "Analisi del mese Maggio per il cliente Ron.\n",
      "Analisi del mese Giugno per il cliente Ron.\n",
      "Analisi del mese Luglio per il cliente Ron.\n",
      "Il cliente Ron ha un saldo di -26.319999999999993 nel mese di Luglio.\n",
      "Analisi del mese Agosto per il cliente Ron.\n",
      "Analisi del mese Settembre per il cliente Ron.\n",
      "Il cliente Ron ha un saldo di -98.17 nel mese di Settembre.\n",
      "Analisi del mese Ottobre per il cliente Ron.\n",
      "Il cliente Ron ha un saldo di -114.41 nel mese di Ottobre.\n",
      "Analisi del mese Novembre per il cliente Ron.\n",
      "Analisi del mese Dicembre per il cliente Ron.\n",
      "{'Alessia': ['Gennaio',\n",
      "             'Febbraio',\n",
      "             'Marzo',\n",
      "             'Aprile',\n",
      "             'Maggio',\n",
      "             'Giugno',\n",
      "             'Luglio',\n",
      "             'Agosto',\n",
      "             'Settembre',\n",
      "             'Ottobre',\n",
      "             'Novembre',\n",
      "             'Dicembre'],\n",
      " 'Anita': [],\n",
      " 'Csaba': [],\n",
      " 'Mario': [],\n",
      " 'Ron': ['Gennaio',\n",
      "         'Febbraio',\n",
      "         'Marzo',\n",
      "         'Aprile',\n",
      "         'Luglio',\n",
      "         'Settembre',\n",
      "         'Ottobre']}\n",
      "{'Alessia': ['Gennaio',\n",
      "             'Febbraio',\n",
      "             'Marzo',\n",
      "             'Aprile',\n",
      "             'Maggio',\n",
      "             'Giugno',\n",
      "             'Luglio',\n",
      "             'Agosto',\n",
      "             'Settembre',\n",
      "             'Ottobre',\n",
      "             'Novembre',\n",
      "             'Dicembre'],\n",
      " 'Anita': [],\n",
      " 'Csaba': [],\n",
      " 'Mario': [],\n",
      " 'Ron': ['Gennaio',\n",
      "         'Febbraio',\n",
      "         'Marzo',\n",
      "         'Aprile',\n",
      "         'Luglio',\n",
      "         'Settembre',\n",
      "         'Ottobre']}\n"
     ]
    }
   ],
   "source": []
  },
  {
   "cell_type": "markdown",
   "id": "e54fcb82",
   "metadata": {},
   "source": [
    "3. Calcolare i ricavi totali per cliente `tot_rev_on_customer` come la somma di tutte le commissioni applicate per il conto e per gli scoperti."
   ]
  },
  {
   "cell_type": "code",
   "execution_count": 25,
   "id": "f4f147b8",
   "metadata": {},
   "outputs": [
    {
     "name": "stdout",
     "output_type": "stream",
     "text": [
      "{'Alessia': 14.5, 'Anita': None, 'Csaba': 0, 'Mario': 0, 'Ron': 7}\n"
     ]
    }
   ],
   "source": []
  },
  {
   "cell_type": "markdown",
   "id": "827303d5",
   "metadata": {},
   "source": [
    "4. Calcolare i ricavi complessivi della banca `tot_rev_bank`."
   ]
  },
  {
   "cell_type": "code",
   "execution_count": 26,
   "id": "ec4e1ba0",
   "metadata": {},
   "outputs": [
    {
     "name": "stdout",
     "output_type": "stream",
     "text": [
      "Ricavi totali: 21.5\n"
     ]
    }
   ],
   "source": []
  }
 ],
 "metadata": {
  "kernelspec": {
   "display_name": "Python 3 (ipykernel)",
   "language": "python",
   "name": "python3"
  },
  "language_info": {
   "codemirror_mode": {
    "name": "ipython",
    "version": 3
   },
   "file_extension": ".py",
   "mimetype": "text/x-python",
   "name": "python",
   "nbconvert_exporter": "python",
   "pygments_lexer": "ipython3",
   "version": "3.12.2"
  }
 },
 "nbformat": 4,
 "nbformat_minor": 5
}
